{
 "cells": [
  {
   "cell_type": "code",
   "execution_count": 5,
   "metadata": {
    "collapsed": false
   },
   "outputs": [],
   "source": [
    "import spearmint\n",
    "import pymongo\n",
    "import numpy as np"
   ]
  },
  {
   "cell_type": "code",
   "execution_count": 9,
   "metadata": {
    "collapsed": false
   },
   "outputs": [
    {
     "data": {
      "text/plain": [
       "[u'system.indexes',\n",
       " u'braninhoo_noisy.jobs',\n",
       " u'braninhoo_noisy.hypers',\n",
       " u'xgb_hyperparams.jobs',\n",
       " u'simple-braninhoo-example.jobs',\n",
       " u'simple-braninhoo-example.hypers',\n",
       " u'simple_xgb-braninhoo-example.jobs',\n",
       " u'simple_xgb-braninhoo-example.hypers',\n",
       " u'test_xgb.jobs',\n",
       " u'mnist500_0.jobs',\n",
       " u'mnist500_0.hypers',\n",
       " u'digits100_0.jobs',\n",
       " u'digits100_0.hypers',\n",
       " u'digits100_1.jobs',\n",
       " u'digits100_1.hypers',\n",
       " u'digits100_2.jobs',\n",
       " u'digits100_2.hypers',\n",
       " u'digits100_3.jobs',\n",
       " u'digits100_4.jobs',\n",
       " u'digits100_5.jobs',\n",
       " u'digits100_3.hypers',\n",
       " u'digits100_4.hypers',\n",
       " u'digits100_5.hypers',\n",
       " u'digits100.jobs',\n",
       " u'digits100.hypers']"
      ]
     },
     "execution_count": 9,
     "metadata": {},
     "output_type": "execute_result"
    }
   ],
   "source": [
    "c = pymongo.MongoClient()\n",
    "db = c.spearmint\n",
    "db.collection_names()"
   ]
  },
  {
   "cell_type": "code",
   "execution_count": 10,
   "metadata": {
    "collapsed": true
   },
   "outputs": [],
   "source": [
    "jobs = list(db['digits100.jobs'].find())"
   ]
  },
  {
   "cell_type": "code",
   "execution_count": 11,
   "metadata": {
    "collapsed": false
   },
   "outputs": [
    {
     "data": {
      "text/plain": [
       "{u'_id': ObjectId('58e2228380c2014d3c782f88'),\n",
       " u'end time': 1491214979.18499,\n",
       " u'expt_dir': u'/home/kc/Konrad/python/discopt/spearmint_example',\n",
       " u'id': 1,\n",
       " u'language': u'PYTHON',\n",
       " u'main-file': u'xgb_digits100.py',\n",
       " u'params': {u'colsample_bylevel': {u'type': u'float',\n",
       "   u'values': {u'ctype': u'compressed array',\n",
       "    u'shape': [1],\n",
       "    u'value': u'eJybNRMETtoDABWaBKA=\\n'}},\n",
       "  u'colsample_bytree': {u'type': u'float',\n",
       "   u'values': {u'ctype': u'compressed array',\n",
       "    u'shape': [1],\n",
       "    u'value': u'eJybNRMETtoDABWaBKA=\\n'}},\n",
       "  u'log_gamma': {u'type': u'float',\n",
       "   u'values': {u'ctype': u'compressed array',\n",
       "    u'shape': [1],\n",
       "    u'value': u'eJxT0ajr2ZktdAAADPkDTQ==\\n'}},\n",
       "  u'log_reg_lambda': {u'type': u'float',\n",
       "   u'values': {u'ctype': u'compressed array',\n",
       "    u'shape': [1],\n",
       "    u'value': u'eJxT0ajr2ZktdAAADPkDTQ==\\n'}},\n",
       "  u'lr_trees_ratio': {u'type': u'float',\n",
       "   u'values': {u'ctype': u'compressed array',\n",
       "    u'shape': [1],\n",
       "    u'value': u'eJxjYACBD/YAAicBMA==\\n'}},\n",
       "  u'max_depth': {u'type': u'int',\n",
       "   u'values': {u'ctype': u'compressed array',\n",
       "    u'shape': [1],\n",
       "    u'value': u'eJxjYACBD/YAAicBMA==\\n'}},\n",
       "  u'n_estimators': {u'type': u'int',\n",
       "   u'values': {u'ctype': u'compressed array',\n",
       "    u'shape': [1],\n",
       "    u'value': u'eJxjYAABTwcAANoAig==\\n'}},\n",
       "  u'subsample': {u'type': u'float',\n",
       "   u'values': {u'ctype': u'compressed array',\n",
       "    u'shape': [1],\n",
       "    u'value': u'eJybNRMETtoDABWaBKA=\\n'}}},\n",
       " u'proc_id': 3865,\n",
       " u'resource': u'my-machine',\n",
       " u'start time': 1491214979.181683,\n",
       " u'status': u'broken',\n",
       " u'submit time': 1491214979.044737,\n",
       " u'tasks': [u'main']}"
      ]
     },
     "execution_count": 11,
     "metadata": {},
     "output_type": "execute_result"
    }
   ],
   "source": [
    "jobs[0]"
   ]
  },
  {
   "cell_type": "code",
   "execution_count": 14,
   "metadata": {
    "collapsed": true
   },
   "outputs": [],
   "source": [
    "from spearmint.utils import compression"
   ]
  },
  {
   "cell_type": "code",
   "execution_count": 15,
   "metadata": {
    "collapsed": false
   },
   "outputs": [
    {
     "data": {
      "text/plain": [
       "{u'_id': ObjectId('58e2228380c2014d3c782f88'),\n",
       " u'end time': 1491214979.18499,\n",
       " u'expt_dir': u'/home/kc/Konrad/python/discopt/spearmint_example',\n",
       " u'id': 1,\n",
       " u'language': u'PYTHON',\n",
       " u'main-file': u'xgb_digits100.py',\n",
       " u'params': {u'colsample_bylevel': {u'type': u'float',\n",
       "   u'values': array([ 0.2])},\n",
       "  u'colsample_bytree': {u'type': u'float', u'values': array([ 0.2])},\n",
       "  u'log_gamma': {u'type': u'float', u'values': array([-4.6052])},\n",
       "  u'log_reg_lambda': {u'type': u'float', u'values': array([-4.6052])},\n",
       "  u'lr_trees_ratio': {u'type': u'float', u'values': array([ 1.])},\n",
       "  u'max_depth': {u'type': u'int', u'values': array([ 1.])},\n",
       "  u'n_estimators': {u'type': u'int', u'values': array([ 50.])},\n",
       "  u'subsample': {u'type': u'float', u'values': array([ 0.2])}},\n",
       " u'proc_id': 3865,\n",
       " u'resource': u'my-machine',\n",
       " u'start time': 1491214979.181683,\n",
       " u'status': u'broken',\n",
       " u'submit time': 1491214979.044737,\n",
       " u'tasks': [u'main']}"
      ]
     },
     "execution_count": 15,
     "metadata": {},
     "output_type": "execute_result"
    }
   ],
   "source": [
    "compression.decompress_nested_container(jobs[0])"
   ]
  },
  {
   "cell_type": "code",
   "execution_count": null,
   "metadata": {
    "collapsed": true
   },
   "outputs": [],
   "source": []
  }
 ],
 "metadata": {
  "kernelspec": {
   "display_name": "Python 2",
   "language": "python",
   "name": "python2"
  },
  "language_info": {
   "codemirror_mode": {
    "name": "ipython",
    "version": 2
   },
   "file_extension": ".py",
   "mimetype": "text/x-python",
   "name": "python",
   "nbconvert_exporter": "python",
   "pygments_lexer": "ipython2",
   "version": "2.7.6"
  }
 },
 "nbformat": 4,
 "nbformat_minor": 0
}
