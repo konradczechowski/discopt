{
 "cells": [
  {
   "cell_type": "code",
   "execution_count": null,
   "metadata": {
    "collapsed": true
   },
   "outputs": [],
   "source": [
    "%matplotlib inline\n",
    "import matplotlib"
   ]
  },
  {
   "cell_type": "code",
   "execution_count": null,
   "metadata": {
    "collapsed": false
   },
   "outputs": [],
   "source": [
    "import discopt\n",
    "import pandas as pd\n",
    "import numpy as np\n",
    "import copy\n",
    "import sklearn\n",
    "import sklearn.datasets\n",
    "import xgboost as xgb\n",
    "import scipy\n",
    "from scipy import stats"
   ]
  },
  {
   "cell_type": "code",
   "execution_count": null,
   "metadata": {
    "collapsed": true
   },
   "outputs": [],
   "source": [
    "n_jobs = 3\n",
    "nrep = 20"
   ]
  },
  {
   "cell_type": "code",
   "execution_count": null,
   "metadata": {
    "collapsed": true
   },
   "outputs": [],
   "source": []
  },
  {
   "cell_type": "markdown",
   "metadata": {
    "collapsed": true
   },
   "source": [
    "# Prepare data "
   ]
  },
  {
   "cell_type": "code",
   "execution_count": null,
   "metadata": {
    "collapsed": true
   },
   "outputs": [],
   "source": [
    "np.random.seed(0)\n",
    "digits = sklearn.datasets.load_digits()\n",
    "x = digits.data\n",
    "y = digits.target\n",
    "\n",
    "ntrain = 100\n",
    "order = np.random.permutation(y.size)\n",
    "tr = order[:ntrain]\n",
    "val = order[ntrain:]\n",
    "ytr = y[tr]\n",
    "xtr = x[tr, :]\n",
    "yval = y[val]\n",
    "xval = x[val, :]\n"
   ]
  },
  {
   "cell_type": "markdown",
   "metadata": {},
   "source": [
    "# HYPEROPT (TPE) "
   ]
  },
  {
   "cell_type": "code",
   "execution_count": null,
   "metadata": {
    "collapsed": true
   },
   "outputs": [],
   "source": [
    "import hyperopt"
   ]
  },
  {
   "cell_type": "code",
   "execution_count": null,
   "metadata": {
    "collapsed": false
   },
   "outputs": [],
   "source": [
    "space_hyperopt = {\n",
    "    'max_depth': hyperopt.hp.quniform('max_depth', 1, 20, 1),\n",
    "    'lr_trees_ratio': hyperopt.hp.uniform('lr_trees_ratio', 2, 20),\n",
    "    'n_estimators': hyperopt.hp.quniform('n_estimators', 50, 300, 1),\n",
    "    'log_gamma': hyperopt.hp.uniform('log_gamma', np.log(0.01), np.log(10)),\n",
    "    'log_reg_lambda': hyperopt.hp.uniform('log_reg_lambda', np.log(0.01), np.log(10)),\n",
    "    'subsample': hyperopt.hp.uniform('subsample', 0.2, 1),\n",
    "    'colsample_bylevel': hyperopt.hp.uniform('colsample_bylevel', 0.2, 1),\n",
    "    'colsample_bytree': hyperopt.hp.uniform('colsample_bytree', 0.2, 1),\n",
    "}"
   ]
  },
  {
   "cell_type": "code",
   "execution_count": null,
   "metadata": {
    "collapsed": true
   },
   "outputs": [],
   "source": [
    "def clf_acc(clf, xtr, ytr, xte, yte):\n",
    "    clf.fit(xtr, ytr)\n",
    "    pred = clf.predict(xte)\n",
    "    return (yte == pred).mean()"
   ]
  },
  {
   "cell_type": "code",
   "execution_count": null,
   "metadata": {
    "collapsed": false
   },
   "outputs": [],
   "source": [
    "def obj_func(hyperparams):\n",
    "    # uses global xtr, ytr, xval, yval\n",
    "    hyperparams = xgb_parse_params(hyperparams)\n",
    "    obj = -clf_acc(xgb.sklearn.XGBClassifier(nthread=n_jobs,**hyperparams), xtr, ytr, xval, yval)\n",
    "    print 'obj', obj, 'arguments', hyperparams, '\\n'\n",
    "    return obj"
   ]
  },
  {
   "cell_type": "code",
   "execution_count": null,
   "metadata": {
    "collapsed": true
   },
   "outputs": [],
   "source": [
    "def xgb_parse_params(params):\n",
    "    # parse transformed xgb arguments to usual xgb arguments\n",
    "    params = copy.deepcopy(params)\n",
    "    if 'max_depth' in params:\n",
    "        params['max_depth'] = int(params['max_depth'])\n",
    "\n",
    "    if ('lr_trees_ratio' in params) and ('n_estimators' in params):\n",
    "        params['learning_rate'] = params['lr_trees_ratio'] / params['n_estimators']\n",
    "        del params['lr_trees_ratio']\n",
    "\n",
    "    if 'n_estimators' in params:\n",
    "        params['n_estimators'] = int(params['n_estimators'])\n",
    "\n",
    "    for name in params:\n",
    "        if name.startswith('log_'):\n",
    "            new_name = name[4:]\n",
    "            params[new_name] = np.exp(params[name])\n",
    "            del params[name]\n",
    "    return params\n"
   ]
  },
  {
   "cell_type": "code",
   "execution_count": null,
   "metadata": {
    "collapsed": false
   },
   "outputs": [],
   "source": [
    "# algo = hyperopt.tpe.rand\n",
    "algo = hyperopt.tpe.suggest\n",
    "trials = hyperopt.Trials() # this object will keep info about runed experiments\n",
    "best = hyperopt.fmin(fn= obj_func,\n",
    "            space=space_hyperopt,\n",
    "            algo=algo,\n",
    "            max_evals=nrep,\n",
    "            trials=trials)        "
   ]
  },
  {
   "cell_type": "code",
   "execution_count": null,
   "metadata": {
    "collapsed": false,
    "scrolled": true
   },
   "outputs": [],
   "source": [
    "best"
   ]
  },
  {
   "cell_type": "code",
   "execution_count": null,
   "metadata": {
    "collapsed": true
   },
   "outputs": [],
   "source": [
    "# more results are in trails object"
   ]
  },
  {
   "cell_type": "code",
   "execution_count": null,
   "metadata": {
    "collapsed": false
   },
   "outputs": [],
   "source": [
    "list(trials)[0]"
   ]
  },
  {
   "cell_type": "code",
   "execution_count": null,
   "metadata": {
    "collapsed": true
   },
   "outputs": [],
   "source": []
  }
 ],
 "metadata": {
  "kernelspec": {
   "display_name": "Python 2",
   "language": "python",
   "name": "python2"
  },
  "language_info": {
   "codemirror_mode": {
    "name": "ipython",
    "version": 2
   },
   "file_extension": ".py",
   "mimetype": "text/x-python",
   "name": "python",
   "nbconvert_exporter": "python",
   "pygments_lexer": "ipython2",
   "version": "2.7.6"
  }
 },
 "nbformat": 4,
 "nbformat_minor": 0
}
