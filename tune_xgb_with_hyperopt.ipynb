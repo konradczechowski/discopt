{
 "cells": [
  {
   "cell_type": "code",
   "execution_count": 1,
   "metadata": {
    "collapsed": true
   },
   "outputs": [],
   "source": [
    "%matplotlib inline\n",
    "import matplotlib"
   ]
  },
  {
   "cell_type": "code",
   "execution_count": 2,
   "metadata": {
    "collapsed": false
   },
   "outputs": [],
   "source": [
    "%load_ext autoreload\n",
    "%autoreload 2"
   ]
  },
  {
   "cell_type": "code",
   "execution_count": 3,
   "metadata": {
    "collapsed": false
   },
   "outputs": [],
   "source": [
    "import discopt\n",
    "import pandas as pd\n",
    "import numpy as np\n",
    "import copy\n",
    "import sklearn\n",
    "import sklearn.datasets\n",
    "import xgboost as xgb\n",
    "import scipy\n",
    "from scipy import stats"
   ]
  },
  {
   "cell_type": "code",
   "execution_count": 4,
   "metadata": {
    "collapsed": true
   },
   "outputs": [],
   "source": [
    "n_jobs = 3\n",
    "nrep = 20"
   ]
  },
  {
   "cell_type": "code",
   "execution_count": null,
   "metadata": {
    "collapsed": true
   },
   "outputs": [],
   "source": []
  },
  {
   "cell_type": "markdown",
   "metadata": {
    "collapsed": true
   },
   "source": [
    "# Prepare data "
   ]
  },
  {
   "cell_type": "code",
   "execution_count": 5,
   "metadata": {
    "collapsed": true
   },
   "outputs": [],
   "source": [
    "np.random.seed(0)\n",
    "digits = sklearn.datasets.load_digits()\n",
    "x = digits.data\n",
    "y = digits.target\n",
    "\n",
    "ntrain = 100\n",
    "order = np.random.permutation(y.size)\n",
    "tr = order[:ntrain]\n",
    "val = order[ntrain:]\n",
    "ytr = y[tr]\n",
    "xtr = x[tr, :]\n",
    "yval = y[val]\n",
    "xval = x[val, :]\n"
   ]
  },
  {
   "cell_type": "markdown",
   "metadata": {},
   "source": [
    "# HYPEROPT (TPE) "
   ]
  },
  {
   "cell_type": "code",
   "execution_count": 6,
   "metadata": {
    "collapsed": true
   },
   "outputs": [],
   "source": [
    "from hyperopt import hp, Trials, fmin, tpe, rand"
   ]
  },
  {
   "cell_type": "code",
   "execution_count": 7,
   "metadata": {
    "collapsed": false
   },
   "outputs": [],
   "source": [
    "def obj_func(kwargs, verbose=1, n_jobs=n_jobs):\n",
    "    # uses global xtr, ytr, xval, yval\n",
    "    kwargs = xgb_parse_params(kwargs)\n",
    "    obj = -clf_acc(xgb.sklearn.XGBClassifier(nthread=n_jobs,**kwargs), xtr, ytr, xval, yval)\n",
    "    if verbose > 0:\n",
    "        print 'obj', obj, 'arguments', kwargs, '\\n'\n",
    "    return obj"
   ]
  },
  {
   "cell_type": "code",
   "execution_count": 8,
   "metadata": {
    "collapsed": true
   },
   "outputs": [],
   "source": [
    "def xgb_parse_params(kwargs):\n",
    "    # parse transformed xgb arguments to usual xgb arguments\n",
    "    kwargs = copy.deepcopy(kwargs)\n",
    "    if 'max_depth' in kwargs:\n",
    "        kwargs['max_depth'] = int(kwargs['max_depth'])\n",
    "\n",
    "    if ('lr_trees_ratio' in kwargs) and ('n_estimators' in kwargs):\n",
    "        kwargs['learning_rate'] = kwargs['lr_trees_ratio'] / kwargs['n_estimators']\n",
    "        del kwargs['lr_trees_ratio']\n",
    "\n",
    "    if 'n_estimators' in kwargs:\n",
    "        kwargs['n_estimators'] = int(kwargs['n_estimators'])\n",
    "\n",
    "    for name in kwargs:\n",
    "        if name.startswith('log_'):\n",
    "            new_name = name[4:]\n",
    "            kwargs[new_name] = np.exp(kwargs[name])\n",
    "            del kwargs[name]\n",
    "    return kwargs\n"
   ]
  },
  {
   "cell_type": "code",
   "execution_count": 9,
   "metadata": {
    "collapsed": true
   },
   "outputs": [],
   "source": [
    "def clf_acc(clf, xtr, ytr, xte, yte):\n",
    "    clf.fit(xtr, ytr)\n",
    "    pred = clf.predict(xte)\n",
    "    return (yte == pred).mean()"
   ]
  },
  {
   "cell_type": "code",
   "execution_count": 10,
   "metadata": {
    "collapsed": false
   },
   "outputs": [],
   "source": [
    "space_hyperopt = {\n",
    "    'max_depth': hp.quniform('max_depth', 1, 20, 1),\n",
    "    'lr_trees_ratio': hp.uniform('lr_trees_ratio', 2, 20),\n",
    "    'n_estimators': hp.quniform('n_estimators', 50, 300, 1),\n",
    "    'log_gamma': hp.uniform('log_gamma', np.log(0.01), np.log(10)),\n",
    "    'log_reg_lambda': hp.uniform('log_reg_lambda', np.log(0.01), np.log(10)),\n",
    "    'subsample': hp.uniform('subsample', 0.2, 1),\n",
    "    'colsample_bylevel': hp.uniform('colsample_bylevel', 0.2, 1),\n",
    "    'colsample_bytree': hp.uniform('colsample_bytree', 0.2, 1),\n",
    "}"
   ]
  },
  {
   "cell_type": "code",
   "execution_count": 11,
   "metadata": {
    "collapsed": true
   },
   "outputs": [
    {
     "name": "stdout",
     "output_type": "stream",
     "text": [
      "obj -0.842663523866 arguments {'colsample_bytree': 0.35084370607626475, 'colsample_bylevel': 0.3677917417779124, 'learning_rate': 0.03645497099578443, 'n_estimators': 261, 'subsample': 0.3341861608115664, 'reg_lambda': 1.0343302779360379, 'max_depth': 18, 'gamma': 0.26988326928061263} \n",
      "\n",
      "obj -0.761343547437 arguments {'colsample_bytree': 0.9074991058431388, 'colsample_bylevel': 0.6097948907592092, 'learning_rate': 0.09786512824782642, 'n_estimators': 136, 'subsample': 0.3946760185856406, 'reg_lambda': 0.018909474246751136, 'max_depth': 4, 'gamma': 2.9204663060036711} \n",
      "\n",
      "obj -0.840895698291 arguments {'colsample_bytree': 0.9107968080623745, 'colsample_bylevel': 0.3977832572858533, 'learning_rate': 0.03755159839456701, 'n_estimators': 245, 'subsample': 0.3159469668689108, 'reg_lambda': 0.61100298507230277, 'max_depth': 11, 'gamma': 0.11747475106797176} \n",
      "\n",
      "obj -0.835592221567 arguments {'colsample_bytree': 0.32092914588167654, 'colsample_bylevel': 0.40555414795458855, 'learning_rate': 0.046928696363007644, 'n_estimators': 205, 'subsample': 0.5266868939781117, 'reg_lambda': 0.063810883451061007, 'max_depth': 10, 'gamma': 1.7068438506653578} \n",
      "\n",
      "obj -0.84443134944 arguments {'colsample_bytree': 0.5962934786668912, 'colsample_bylevel': 0.9017974237673836, 'learning_rate': 0.027725734240427572, 'n_estimators': 236, 'subsample': 0.6984991042555082, 'reg_lambda': 2.1083358651354724, 'max_depth': 5, 'gamma': 0.01176901496756614} \n",
      "\n",
      "obj -0.853270477313 arguments {'colsample_bytree': 0.3350769601960442, 'colsample_bylevel': 0.3246122723659355, 'learning_rate': 0.03194283834639463, 'n_estimators': 149, 'subsample': 0.9813233644224095, 'reg_lambda': 0.16112507528051054, 'max_depth': 4, 'gamma': 0.39556654722288032} \n",
      "\n",
      "obj -0.827342368886 arguments {'colsample_bytree': 0.2025859924939738, 'colsample_bylevel': 0.6352469147167705, 'learning_rate': 0.043955858861185575, 'n_estimators': 253, 'subsample': 0.25601024472445144, 'reg_lambda': 0.63006399612850383, 'max_depth': 8, 'gamma': 0.010396669037866919} \n",
      "\n",
      "obj -0.757218621096 arguments {'colsample_bytree': 0.21243326811592222, 'colsample_bylevel': 0.546869395635964, 'learning_rate': 0.33448813246579634, 'n_estimators': 52, 'subsample': 0.6291821593481421, 'reg_lambda': 0.13067988898233246, 'max_depth': 4, 'gamma': 2.5201817856740689} \n",
      "\n",
      "obj -0.845609899823 arguments {'colsample_bytree': 0.6525127250949465, 'colsample_bylevel': 0.690480712272125, 'learning_rate': 0.018893417112760626, 'n_estimators': 207, 'subsample': 0.9528141559338723, 'reg_lambda': 0.011689304791026671, 'max_depth': 9, 'gamma': 0.22661144837020059} \n",
      "\n",
      "obj -0.843252799057 arguments {'colsample_bytree': 0.4066430786892264, 'colsample_bylevel': 0.8155329519555601, 'learning_rate': 0.05280257613053308, 'n_estimators': 207, 'subsample': 0.4447992639950051, 'reg_lambda': 0.089282114470788085, 'max_depth': 4, 'gamma': 0.015029676125972811} \n",
      "\n",
      "obj -0.852681202121 arguments {'colsample_bytree': 0.7283154223453658, 'colsample_bylevel': 0.36060191472672465, 'learning_rate': 0.018196815766635618, 'n_estimators': 161, 'subsample': 0.5970269453382733, 'reg_lambda': 0.71277943416276912, 'max_depth': 14, 'gamma': 0.11881905357611929} \n",
      "\n",
      "obj -0.746022392457 arguments {'colsample_bytree': 0.6309495080876937, 'colsample_bylevel': 0.7564023588242432, 'learning_rate': 0.008980472129558522, 'n_estimators': 240, 'subsample': 0.390022896159406, 'reg_lambda': 8.8543454088407128, 'max_depth': 17, 'gamma': 0.20075406350280917} \n",
      "\n",
      "obj -0.787271655863 arguments {'colsample_bytree': 0.6119006829543264, 'colsample_bylevel': 0.5011662460745867, 'learning_rate': 0.22512659037345298, 'n_estimators': 88, 'subsample': 0.33250471581651986, 'reg_lambda': 0.25443356653595983, 'max_depth': 10, 'gamma': 1.1786303137238026} \n",
      "\n",
      "obj -0.855038302887 arguments {'colsample_bytree': 0.8589224170619485, 'colsample_bylevel': 0.37298459149408986, 'learning_rate': 0.036525306388278306, 'n_estimators': 128, 'subsample': 0.6910165301927893, 'reg_lambda': 0.10713149732901107, 'max_depth': 19, 'gamma': 0.19769187434920574} \n",
      "\n",
      "obj -0.839127872717 arguments {'colsample_bytree': 0.8829006603108724, 'colsample_bylevel': 0.7791591584767557, 'learning_rate': 0.06656610831688269, 'n_estimators': 259, 'subsample': 0.630842060675097, 'reg_lambda': 4.845672786850451, 'max_depth': 3, 'gamma': 0.14217505178982373} \n",
      "\n",
      "obj -0.816735415439 arguments {'colsample_bytree': 0.34257741437892825, 'colsample_bylevel': 0.7401729199313176, 'learning_rate': 0.2906813609546624, 'n_estimators': 64, 'subsample': 0.9427962160571328, 'reg_lambda': 0.015146599100213985, 'max_depth': 11, 'gamma': 0.024569873724973091} \n",
      "\n",
      "obj -0.845020624632 arguments {'colsample_bytree': 0.9088322017173338, 'colsample_bylevel': 0.48426666672401675, 'learning_rate': 0.1129434088010813, 'n_estimators': 156, 'subsample': 0.6737482854940284, 'reg_lambda': 0.08160994982790383, 'max_depth': 16, 'gamma': 0.025645650894419468} \n",
      "\n",
      "obj -0.857984678845 arguments {'colsample_bytree': 0.7664269543270454, 'colsample_bylevel': 0.38889922769173807, 'learning_rate': 0.019461692545783362, 'n_estimators': 110, 'subsample': 0.7615346067775921, 'reg_lambda': 0.16312468197928165, 'max_depth': 6, 'gamma': 0.85140190484694223} \n",
      "\n",
      "obj -0.47849145551 arguments {'colsample_bytree': 0.4564805956461516, 'colsample_bylevel': 0.6791202986476357, 'learning_rate': 0.06293632033182896, 'n_estimators': 184, 'subsample': 0.24549780592905437, 'reg_lambda': 0.85891994765905166, 'max_depth': 20, 'gamma': 5.4901736028492403} \n",
      "\n",
      "obj -0.846199175015 arguments {'colsample_bytree': 0.43574767662332947, 'colsample_bylevel': 0.6917617800025858, 'learning_rate': 0.17580269641621665, 'n_estimators': 68, 'subsample': 0.5416783442079927, 'reg_lambda': 1.5728039274229175, 'max_depth': 4, 'gamma': 0.056972900997843939} \n",
      "\n"
     ]
    }
   ],
   "source": [
    "# algo = tpe.rand\n",
    "algo = tpe.suggest\n",
    "trials = Trials() # this object will keep info about runed experiments\n",
    "best = fmin(fn= obj_func,\n",
    "            space=space_hyperopt,\n",
    "            algo=tpe.suggest,\n",
    "            max_evals=nrep,\n",
    "            trials=trials)        "
   ]
  },
  {
   "cell_type": "code",
   "execution_count": 12,
   "metadata": {
    "collapsed": false,
    "scrolled": true
   },
   "outputs": [
    {
     "data": {
      "text/plain": [
       "{'colsample_bylevel': 0.38889922769173807,\n",
       " 'colsample_bytree': 0.7664269543270454,\n",
       " 'log_gamma': -0.1608709882791688,\n",
       " 'log_reg_lambda': -1.813240450459376,\n",
       " 'lr_trees_ratio': 2.14078618003617,\n",
       " 'max_depth': 6.0,\n",
       " 'n_estimators': 110.0,\n",
       " 'subsample': 0.7615346067775921}"
      ]
     },
     "execution_count": 12,
     "metadata": {},
     "output_type": "execute_result"
    }
   ],
   "source": [
    "best"
   ]
  },
  {
   "cell_type": "code",
   "execution_count": 19,
   "metadata": {
    "collapsed": true
   },
   "outputs": [],
   "source": [
    "# more results are in trails object"
   ]
  },
  {
   "cell_type": "code",
   "execution_count": 13,
   "metadata": {
    "collapsed": false
   },
   "outputs": [
    {
     "data": {
      "text/plain": [
       "{'book_time': datetime.datetime(2017, 4, 24, 14, 54, 5, 508000),\n",
       " 'exp_key': None,\n",
       " 'misc': {'cmd': ('domain_attachment', 'FMinIter_Domain'),\n",
       "  'idxs': {'colsample_bylevel': [0],\n",
       "   'colsample_bytree': [0],\n",
       "   'log_gamma': [0],\n",
       "   'log_reg_lambda': [0],\n",
       "   'lr_trees_ratio': [0],\n",
       "   'max_depth': [0],\n",
       "   'n_estimators': [0],\n",
       "   'subsample': [0]},\n",
       "  'tid': 0,\n",
       "  'vals': {'colsample_bylevel': [0.3677917417779124],\n",
       "   'colsample_bytree': [0.35084370607626475],\n",
       "   'log_gamma': [-1.309765749465646],\n",
       "   'log_reg_lambda': [0.033754142816365906],\n",
       "   'lr_trees_ratio': [9.514747429899737],\n",
       "   'max_depth': [18.0],\n",
       "   'n_estimators': [261.0],\n",
       "   'subsample': [0.3341861608115664]},\n",
       "  'workdir': None},\n",
       " 'owner': None,\n",
       " 'refresh_time': datetime.datetime(2017, 4, 24, 14, 54, 5, 813000),\n",
       " 'result': {'loss': -0.8426635238656452, 'status': 'ok'},\n",
       " 'spec': None,\n",
       " 'state': 2,\n",
       " 'tid': 0,\n",
       " 'version': 0}"
      ]
     },
     "execution_count": 13,
     "metadata": {},
     "output_type": "execute_result"
    }
   ],
   "source": [
    "list(trials)[0]"
   ]
  },
  {
   "cell_type": "code",
   "execution_count": null,
   "metadata": {
    "collapsed": true
   },
   "outputs": [],
   "source": []
  }
 ],
 "metadata": {
  "kernelspec": {
   "display_name": "Python 2",
   "language": "python",
   "name": "python2"
  },
  "language_info": {
   "codemirror_mode": {
    "name": "ipython",
    "version": 2
   },
   "file_extension": ".py",
   "mimetype": "text/x-python",
   "name": "python",
   "nbconvert_exporter": "python",
   "pygments_lexer": "ipython2",
   "version": "2.7.6"
  }
 },
 "nbformat": 4,
 "nbformat_minor": 0
}
