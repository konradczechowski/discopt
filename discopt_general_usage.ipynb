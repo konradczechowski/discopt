{
 "cells": [
  {
   "cell_type": "code",
   "execution_count": 1,
   "metadata": {
    "collapsed": true
   },
   "outputs": [],
   "source": [
    "%matplotlib inline\n",
    "import matplotlib"
   ]
  },
  {
   "cell_type": "code",
   "execution_count": 2,
   "metadata": {
    "collapsed": false
   },
   "outputs": [],
   "source": [
    "%load_ext autoreload\n",
    "%autoreload 2"
   ]
  },
  {
   "cell_type": "code",
   "execution_count": 9,
   "metadata": {
    "collapsed": false
   },
   "outputs": [],
   "source": [
    "import discopt\n",
    "import pandas as pd\n",
    "import numpy as np\n",
    "import copy\n",
    "import sklearn\n",
    "import sklearn.datasets\n",
    "import xgboost as xgb\n",
    "import scipy\n",
    "from scipy import stats\n",
    "import math"
   ]
  },
  {
   "cell_type": "code",
   "execution_count": 4,
   "metadata": {
    "collapsed": true
   },
   "outputs": [],
   "source": [
    "n_jobs = 3\n",
    "nrep = 20"
   ]
  },
  {
   "cell_type": "markdown",
   "metadata": {},
   "source": [
    "# Objective function"
   ]
  },
  {
   "cell_type": "code",
   "execution_count": null,
   "metadata": {
    "collapsed": true
   },
   "outputs": [],
   "source": [
    "def objective(params):\n",
    "    # this is classic branin function (copied from spearmint examples)\n",
    "    x, y = params['x'], params['y']\n",
    "    result = np.square(y - (5.1/(4*np.square(math.pi)))*np.square(x) + \n",
    "         (5/math.pi)*x - 6) + 10*(1-(1./(8*math.pi)))*np.cos(x) + 10\n",
    "    result = float(result)\n",
    "    return result"
   ]
  },
  {
   "cell_type": "code",
   "execution_count": null,
   "metadata": {
    "collapsed": true
   },
   "outputs": [],
   "source": []
  },
  {
   "cell_type": "markdown",
   "metadata": {},
   "source": [
    "# DISCOPT "
   ]
  },
  {
   "cell_type": "code",
   "execution_count": 10,
   "metadata": {
    "collapsed": false
   },
   "outputs": [],
   "source": [
    "def scipy_uniform(min_val, max_val):\n",
    "    return scipy.stats.uniform(min_val, max_val - min_val)\n",
    "# the supported distributions are curently stats.uniform and stats.randint\n",
    "space = {\n",
    "    'x' : scipy_uniform(-5,10),\n",
    "    'y' : scipy_uniform(0,15)\n",
    "}"
   ]
  },
  {
   "cell_type": "code",
   "execution_count": 11,
   "metadata": {
    "collapsed": false,
    "scrolled": true
   },
   "outputs": [
    {
     "name": "stdout",
     "output_type": "stream",
     "text": [
      "best objective yet 16.4670839793\n",
      "best objective yet 16.4670839793\n",
      "best objective yet 16.4670839793\n",
      "best objective yet 6.75336308711\n",
      "best objective yet 5.35476382515\n",
      "best objective yet 5.35476382515\n",
      "best objective yet 4.99001704814\n",
      "best objective yet 4.99001704814\n",
      "best objective yet 3.90358056086\n",
      "best objective yet 3.90358056086\n",
      "best objective yet 3.90358056086\n",
      "best objective yet 2.74874930876\n",
      "best objective yet 2.74874930876\n",
      "best objective yet 1.20394096603\n",
      "best objective yet 1.20394096603\n",
      "best objective yet 1.20394096603\n",
      "best objective yet 1.20394096603\n",
      "best objective yet 1.20394096603\n",
      "best objective yet 1.20394096603\n",
      "best objective yet 1.20394096603\n"
     ]
    }
   ],
   "source": [
    "scores = discopt.search_min(obj_func =objective,\n",
    "                            space=space,\n",
    "                            nrep=nrep)\n"
   ]
  },
  {
   "cell_type": "code",
   "execution_count": 16,
   "metadata": {
    "collapsed": false,
    "scrolled": true
   },
   "outputs": [
    {
     "data": {
      "text/html": [
       "<div>\n",
       "<table border=\"1\" class=\"dataframe\">\n",
       "  <thead>\n",
       "    <tr style=\"text-align: right;\">\n",
       "      <th></th>\n",
       "      <th>y</th>\n",
       "      <th>x</th>\n",
       "      <th>obj</th>\n",
       "    </tr>\n",
       "  </thead>\n",
       "  <tbody>\n",
       "    <tr>\n",
       "      <th>0</th>\n",
       "      <td>4.005476</td>\n",
       "      <td>7.216301</td>\n",
       "      <td>23.352247</td>\n",
       "    </tr>\n",
       "    <tr>\n",
       "      <th>1</th>\n",
       "      <td>3.653276</td>\n",
       "      <td>0.952251</td>\n",
       "      <td>16.467084</td>\n",
       "    </tr>\n",
       "    <tr>\n",
       "      <th>2</th>\n",
       "      <td>2.640726</td>\n",
       "      <td>-3.897742</td>\n",
       "      <td>135.848177</td>\n",
       "    </tr>\n",
       "    <tr>\n",
       "      <th>3</th>\n",
       "      <td>3.835612</td>\n",
       "      <td>-3.584833</td>\n",
       "      <td>92.146318</td>\n",
       "    </tr>\n",
       "    <tr>\n",
       "      <th>4</th>\n",
       "      <td>5.470214</td>\n",
       "      <td>8.585913</td>\n",
       "      <td>16.628709</td>\n",
       "    </tr>\n",
       "  </tbody>\n",
       "</table>\n",
       "</div>"
      ],
      "text/plain": [
       "          y         x         obj\n",
       "0  4.005476  7.216301   23.352247\n",
       "1  3.653276  0.952251   16.467084\n",
       "2  2.640726 -3.897742  135.848177\n",
       "3  3.835612 -3.584833   92.146318\n",
       "4  5.470214  8.585913   16.628709"
      ]
     },
     "execution_count": 16,
     "metadata": {},
     "output_type": "execute_result"
    }
   ],
   "source": [
    "# results\n",
    "scores.head()"
   ]
  },
  {
   "cell_type": "code",
   "execution_count": 17,
   "metadata": {
    "collapsed": false
   },
   "outputs": [
    {
     "data": {
      "text/html": [
       "<div>\n",
       "<table border=\"1\" class=\"dataframe\">\n",
       "  <thead>\n",
       "    <tr style=\"text-align: right;\">\n",
       "      <th></th>\n",
       "      <th>y</th>\n",
       "      <th>x</th>\n",
       "      <th>obj</th>\n",
       "    </tr>\n",
       "  </thead>\n",
       "  <tbody>\n",
       "    <tr>\n",
       "      <th>17</th>\n",
       "      <td>1.403649</td>\n",
       "      <td>3.111032</td>\n",
       "      <td>1.203941</td>\n",
       "    </tr>\n",
       "    <tr>\n",
       "      <th>19</th>\n",
       "      <td>1.381641</td>\n",
       "      <td>3.597048</td>\n",
       "      <td>1.695904</td>\n",
       "    </tr>\n",
       "    <tr>\n",
       "      <th>15</th>\n",
       "      <td>3.387558</td>\n",
       "      <td>2.473211</td>\n",
       "      <td>2.748749</td>\n",
       "    </tr>\n",
       "    <tr>\n",
       "      <th>16</th>\n",
       "      <td>1.330500</td>\n",
       "      <td>8.587413</td>\n",
       "      <td>3.851699</td>\n",
       "    </tr>\n",
       "    <tr>\n",
       "      <th>12</th>\n",
       "      <td>1.335524</td>\n",
       "      <td>8.578630</td>\n",
       "      <td>3.903581</td>\n",
       "    </tr>\n",
       "  </tbody>\n",
       "</table>\n",
       "</div>"
      ],
      "text/plain": [
       "           y         x       obj\n",
       "17  1.403649  3.111032  1.203941\n",
       "19  1.381641  3.597048  1.695904\n",
       "15  3.387558  2.473211  2.748749\n",
       "16  1.330500  8.587413  3.851699\n",
       "12  1.335524  8.578630  3.903581"
      ]
     },
     "execution_count": 17,
     "metadata": {},
     "output_type": "execute_result"
    }
   ],
   "source": [
    "# best results\n",
    "scores.sort_values('obj').head()"
   ]
  },
  {
   "cell_type": "code",
   "execution_count": null,
   "metadata": {
    "collapsed": true
   },
   "outputs": [],
   "source": []
  }
 ],
 "metadata": {
  "kernelspec": {
   "display_name": "Python 2",
   "language": "python",
   "name": "python2"
  },
  "language_info": {
   "codemirror_mode": {
    "name": "ipython",
    "version": 2
   },
   "file_extension": ".py",
   "mimetype": "text/x-python",
   "name": "python",
   "nbconvert_exporter": "python",
   "pygments_lexer": "ipython2",
   "version": "2.7.6"
  }
 },
 "nbformat": 4,
 "nbformat_minor": 0
}
