{
 "cells": [
  {
   "cell_type": "code",
   "execution_count": 1,
   "metadata": {
    "collapsed": true
   },
   "outputs": [],
   "source": [
    "%matplotlib inline\n",
    "import matplotlib"
   ]
  },
  {
   "cell_type": "code",
   "execution_count": 2,
   "metadata": {
    "collapsed": false
   },
   "outputs": [],
   "source": [
    "%load_ext autoreload\n",
    "%autoreload 2"
   ]
  },
  {
   "cell_type": "code",
   "execution_count": 3,
   "metadata": {
    "collapsed": false
   },
   "outputs": [],
   "source": [
    "import discopt\n",
    "import pandas as pd\n",
    "import numpy as np\n",
    "import copy\n",
    "import sklearn\n",
    "import sklearn.datasets\n",
    "import xgboost as xgb\n",
    "import scipy\n",
    "from scipy import stats"
   ]
  },
  {
   "cell_type": "code",
   "execution_count": 4,
   "metadata": {
    "collapsed": true
   },
   "outputs": [],
   "source": [
    "n_jobs = 3\n",
    "ntrials = 30"
   ]
  },
  {
   "cell_type": "code",
   "execution_count": null,
   "metadata": {
    "collapsed": true
   },
   "outputs": [],
   "source": []
  },
  {
   "cell_type": "markdown",
   "metadata": {
    "collapsed": true
   },
   "source": [
    "# Prepare data "
   ]
  },
  {
   "cell_type": "code",
   "execution_count": 5,
   "metadata": {
    "collapsed": true
   },
   "outputs": [],
   "source": [
    "np.random.seed(0)\n",
    "digits = sklearn.datasets.load_digits()\n",
    "x = digits.data\n",
    "y = digits.target\n",
    "\n",
    "ntrain = 100\n",
    "order = np.random.permutation(y.size)\n",
    "tr = order[:ntrain]\n",
    "val = order[ntrain:]\n",
    "ytr = y[tr]\n",
    "xtr = x[tr, :]\n",
    "yval = y[val]\n",
    "xval = x[val, :]\n"
   ]
  },
  {
   "cell_type": "code",
   "execution_count": null,
   "metadata": {
    "collapsed": true
   },
   "outputs": [],
   "source": []
  },
  {
   "cell_type": "markdown",
   "metadata": {},
   "source": [
    "# DISCOPT SHORTCUT FOR XGB "
   ]
  },
  {
   "cell_type": "code",
   "execution_count": 6,
   "metadata": {
    "collapsed": true
   },
   "outputs": [],
   "source": [
    "# parameter space is proposed in discopt.py file"
   ]
  },
  {
   "cell_type": "code",
   "execution_count": 6,
   "metadata": {
    "collapsed": true
   },
   "outputs": [],
   "source": [
    "# write your train_and_valid function\n",
    "def train_and_valid(clf):\n",
    "    # put here trainig and validation, return objective\n",
    "    # optimizer would try to minimize this value, so use NEGATIVE accuracy/AUC/F1...\n",
    "    # validation method is up to you\n",
    "    # clf is xgboost.sklearn.XGBoostClassifier instance\n",
    "    clf.fit(xtr, ytr)\n",
    "    pred = clf.predict(xval)\n",
    "    obj = -(pred == yval).mean() # (minus) accuracy\n",
    "    return obj"
   ]
  },
  {
   "cell_type": "code",
   "execution_count": 7,
   "metadata": {
    "collapsed": false,
    "scrolled": true
   },
   "outputs": [
    {
     "name": "stdout",
     "output_type": "stream",
     "text": [
      "best objective yet -0.852681202121\n",
      "best objective yet -0.852681202121\n",
      "best objective yet -0.852681202121\n",
      "best objective yet -0.852681202121\n",
      "best objective yet -0.852681202121\n",
      "best objective yet -0.852681202121\n",
      "best objective yet -0.852681202121\n",
      "best objective yet -0.855627578079\n",
      "best objective yet -0.855627578079\n",
      "best objective yet -0.855627578079\n",
      "best objective yet -0.855627578079\n",
      "best objective yet -0.873895109016\n",
      "best objective yet -0.873895109016\n",
      "best objective yet -0.873895109016\n",
      "best objective yet -0.873895109016\n",
      "best objective yet -0.873895109016\n",
      "best objective yet -0.873895109016\n",
      "best objective yet -0.873895109016\n",
      "best objective yet -0.873895109016\n",
      "best objective yet -0.873895109016\n",
      "best objective yet -0.873895109016\n",
      "best objective yet -0.873895109016\n",
      "best objective yet -0.873895109016\n",
      "best objective yet -0.873895109016\n",
      "best objective yet -0.873895109016\n",
      "best objective yet -0.873895109016\n",
      "best objective yet -0.878609310548\n",
      "best objective yet -0.878609310548\n",
      "best objective yet -0.878609310548\n",
      "best objective yet -0.878609310548\n"
     ]
    }
   ],
   "source": [
    "best_params, scores = discopt.search_params_for_xgb(train_valid_func=train_and_valid,\n",
    "                                                    train_data_shape=xtr.shape,\n",
    "                                                    ntrials=ntrials,\n",
    "                                                    n_jobs=n_jobs)"
   ]
  },
  {
   "cell_type": "code",
   "execution_count": 13,
   "metadata": {
    "collapsed": true
   },
   "outputs": [],
   "source": [
    "# the long 'stagnations' of 'best value so far' is typical for every optimizer, at least for this particular problem"
   ]
  },
  {
   "cell_type": "code",
   "execution_count": 8,
   "metadata": {
    "collapsed": false
   },
   "outputs": [
    {
     "data": {
      "text/plain": [
       "{'colsample_bylevel': 0.99286728518736778,\n",
       " 'colsample_bytree': 0.23387603400036899,\n",
       " 'gamma': 0.028237252232474395,\n",
       " 'learning_rate': 0.02381313753564103,\n",
       " 'max_depth': 14,\n",
       " 'n_estimators': 220,\n",
       " 'reg_lambda': 0.043434594754154628,\n",
       " 'subsample': 0.84847829800004337}"
      ]
     },
     "execution_count": 8,
     "metadata": {},
     "output_type": "execute_result"
    }
   ],
   "source": [
    "best_params"
   ]
  },
  {
   "cell_type": "code",
   "execution_count": 9,
   "metadata": {
    "collapsed": false
   },
   "outputs": [
    {
     "data": {
      "text/html": [
       "<div>\n",
       "<table border=\"1\" class=\"dataframe\">\n",
       "  <thead>\n",
       "    <tr style=\"text-align: right;\">\n",
       "      <th></th>\n",
       "      <th>lr_trees_ratio</th>\n",
       "      <th>colsample_bytree</th>\n",
       "      <th>colsample_bylevel</th>\n",
       "      <th>max_depth</th>\n",
       "      <th>n_estimators</th>\n",
       "      <th>subsample</th>\n",
       "      <th>log_reg_lambda</th>\n",
       "      <th>log_gamma</th>\n",
       "      <th>obj</th>\n",
       "    </tr>\n",
       "  </thead>\n",
       "  <tbody>\n",
       "    <tr>\n",
       "      <th>0</th>\n",
       "      <td>6.960429</td>\n",
       "      <td>0.667927</td>\n",
       "      <td>0.324535</td>\n",
       "      <td>11.0</td>\n",
       "      <td>259.0</td>\n",
       "      <td>0.213756</td>\n",
       "      <td>1.866324</td>\n",
       "      <td>-2.268405</td>\n",
       "      <td>-0.704773</td>\n",
       "    </tr>\n",
       "    <tr>\n",
       "      <th>1</th>\n",
       "      <td>3.235117</td>\n",
       "      <td>0.260937</td>\n",
       "      <td>0.359311</td>\n",
       "      <td>5.0</td>\n",
       "      <td>290.0</td>\n",
       "      <td>0.937539</td>\n",
       "      <td>-2.027846</td>\n",
       "      <td>-2.073616</td>\n",
       "      <td>-0.852681</td>\n",
       "    </tr>\n",
       "    <tr>\n",
       "      <th>2</th>\n",
       "      <td>5.526780</td>\n",
       "      <td>0.511301</td>\n",
       "      <td>0.910028</td>\n",
       "      <td>5.0</td>\n",
       "      <td>161.0</td>\n",
       "      <td>0.380002</td>\n",
       "      <td>-2.184782</td>\n",
       "      <td>1.380114</td>\n",
       "      <td>-0.748379</td>\n",
       "    </tr>\n",
       "    <tr>\n",
       "      <th>3</th>\n",
       "      <td>6.419523</td>\n",
       "      <td>0.608833</td>\n",
       "      <td>0.619484</td>\n",
       "      <td>20.0</td>\n",
       "      <td>248.0</td>\n",
       "      <td>0.357533</td>\n",
       "      <td>-1.358569</td>\n",
       "      <td>0.193842</td>\n",
       "      <td>-0.834414</td>\n",
       "    </tr>\n",
       "    <tr>\n",
       "      <th>4</th>\n",
       "      <td>3.822966</td>\n",
       "      <td>0.325159</td>\n",
       "      <td>0.235959</td>\n",
       "      <td>13.0</td>\n",
       "      <td>56.0</td>\n",
       "      <td>0.475824</td>\n",
       "      <td>-1.882403</td>\n",
       "      <td>-4.482429</td>\n",
       "      <td>-0.817914</td>\n",
       "    </tr>\n",
       "  </tbody>\n",
       "</table>\n",
       "</div>"
      ],
      "text/plain": [
       "   lr_trees_ratio  colsample_bytree  colsample_bylevel  max_depth  \\\n",
       "0        6.960429          0.667927           0.324535       11.0   \n",
       "1        3.235117          0.260937           0.359311        5.0   \n",
       "2        5.526780          0.511301           0.910028        5.0   \n",
       "3        6.419523          0.608833           0.619484       20.0   \n",
       "4        3.822966          0.325159           0.235959       13.0   \n",
       "\n",
       "   n_estimators  subsample  log_reg_lambda  log_gamma       obj  \n",
       "0         259.0   0.213756        1.866324  -2.268405 -0.704773  \n",
       "1         290.0   0.937539       -2.027846  -2.073616 -0.852681  \n",
       "2         161.0   0.380002       -2.184782   1.380114 -0.748379  \n",
       "3         248.0   0.357533       -1.358569   0.193842 -0.834414  \n",
       "4          56.0   0.475824       -1.882403  -4.482429 -0.817914  "
      ]
     },
     "execution_count": 9,
     "metadata": {},
     "output_type": "execute_result"
    }
   ],
   "source": [
    "# dataframe with objective and \n",
    "scores.head()"
   ]
  },
  {
   "cell_type": "code",
   "execution_count": null,
   "metadata": {
    "collapsed": true
   },
   "outputs": [],
   "source": []
  }
 ],
 "metadata": {
  "kernelspec": {
   "display_name": "Python 2",
   "language": "python",
   "name": "python2"
  },
  "language_info": {
   "codemirror_mode": {
    "name": "ipython",
    "version": 2
   },
   "file_extension": ".py",
   "mimetype": "text/x-python",
   "name": "python",
   "nbconvert_exporter": "python",
   "pygments_lexer": "ipython2",
   "version": "2.7.6"
  }
 },
 "nbformat": 4,
 "nbformat_minor": 0
}
