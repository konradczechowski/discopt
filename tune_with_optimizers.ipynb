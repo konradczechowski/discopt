{
 "cells": [
  {
   "cell_type": "code",
   "execution_count": 1,
   "metadata": {
    "collapsed": true
   },
   "outputs": [],
   "source": [
    "%matplotlib inline\n",
    "import matplotlib"
   ]
  },
  {
   "cell_type": "code",
   "execution_count": 2,
   "metadata": {
    "collapsed": true
   },
   "outputs": [],
   "source": [
    "%load_ext autoreload\n",
    "%autoreload 2"
   ]
  },
  {
   "cell_type": "code",
   "execution_count": 18,
   "metadata": {
    "collapsed": false
   },
   "outputs": [],
   "source": [
    "import discopt\n",
    "import pandas as pd\n",
    "import numpy as np\n",
    "import copy\n",
    "import sklearn\n",
    "import sklearn.datasets\n",
    "import xgboost as xgb\n",
    "import scipy\n",
    "from scipy import stats"
   ]
  },
  {
   "cell_type": "code",
   "execution_count": 11,
   "metadata": {
    "collapsed": true
   },
   "outputs": [],
   "source": [
    "n_jobs = 3\n",
    "nrep = 20"
   ]
  },
  {
   "cell_type": "code",
   "execution_count": null,
   "metadata": {
    "collapsed": true
   },
   "outputs": [],
   "source": []
  },
  {
   "cell_type": "markdown",
   "metadata": {},
   "source": [
    "# HYPEROPT (TPE) "
   ]
  },
  {
   "cell_type": "code",
   "execution_count": 25,
   "metadata": {
    "collapsed": true
   },
   "outputs": [],
   "source": [
    "from hyperopt import hp, Trials, fmin, tpe, rand"
   ]
  },
  {
   "cell_type": "code",
   "execution_count": 5,
   "metadata": {
    "collapsed": false
   },
   "outputs": [],
   "source": [
    "np.random.seed(0)\n",
    "digits = sklearn.datasets.load_digits()\n",
    "x = digits.data\n",
    "y = digits.target\n",
    "\n",
    "ntrain = 100\n",
    "order = np.random.permutation(y.size)\n",
    "tr = order[:ntrain]\n",
    "val = order[ntrain:]\n",
    "ytr = y[tr]\n",
    "xtr = x[tr, :]\n",
    "yval = y[val]\n",
    "xval = x[val, :]\n"
   ]
  },
  {
   "cell_type": "code",
   "execution_count": 6,
   "metadata": {
    "collapsed": false
   },
   "outputs": [],
   "source": [
    "def obj_func(kwargs, verbose=1, n_jobs=n_jobs):\n",
    "    # uses global xtr, ytr, xval, yval\n",
    "    kwargs = xgb_parse_params(kwargs)\n",
    "    obj = -clf_acc(xgb.sklearn.XGBClassifier(nthread=n_jobs,**kwargs), xtr, ytr, xval, yval)\n",
    "    if verbose > 0:\n",
    "        print 'obj', obj, 'arguments', kwargs, '\\n'\n",
    "    return obj"
   ]
  },
  {
   "cell_type": "code",
   "execution_count": 7,
   "metadata": {
    "collapsed": true
   },
   "outputs": [],
   "source": [
    "def xgb_parse_params(kwargs):\n",
    "    # parse transformed xgb arguments to usual xgb arguments\n",
    "    kwargs = copy.deepcopy(kwargs)\n",
    "    if 'max_depth' in kwargs:\n",
    "        kwargs['max_depth'] = int(kwargs['max_depth'])\n",
    "\n",
    "    if ('lr_trees_ratio' in kwargs) and ('n_estimators' in kwargs):\n",
    "        kwargs['learning_rate'] = kwargs['lr_trees_ratio'] / kwargs['n_estimators']\n",
    "        del kwargs['lr_trees_ratio']\n",
    "\n",
    "    if 'n_estimators' in kwargs:\n",
    "        kwargs['n_estimators'] = int(kwargs['n_estimators'])\n",
    "\n",
    "    for name in kwargs:\n",
    "        if name.startswith('log_'):\n",
    "            new_name = name[4:]\n",
    "            kwargs[new_name] = np.exp(kwargs[name])\n",
    "            del kwargs[name]\n",
    "    return kwargs\n"
   ]
  },
  {
   "cell_type": "code",
   "execution_count": 8,
   "metadata": {
    "collapsed": true
   },
   "outputs": [],
   "source": [
    "def clf_acc(clf, xtr, ytr, xte, yte):\n",
    "    clf.fit(xtr, ytr)\n",
    "    pred = clf.predict(xte)\n",
    "    return (yte == pred).mean()"
   ]
  },
  {
   "cell_type": "code",
   "execution_count": 9,
   "metadata": {
    "collapsed": false
   },
   "outputs": [],
   "source": [
    "space_hyperopt = {\n",
    "    'max_depth': hp.quniform('max_depth', 1, 20, 1),\n",
    "    'lr_trees_ratio': hp.uniform('lr_trees_ratio', 2, 20),\n",
    "    'n_estimators': hp.quniform('n_estimators', 50, 300, 1),\n",
    "    'log_gamma': hp.uniform('log_gamma', np.log(0.01), np.log(10)),\n",
    "    'log_reg_lambda': hp.uniform('log_reg_lambda', np.log(0.01), np.log(10)),\n",
    "    'subsample': hp.uniform('subsample', 0.2, 1),\n",
    "    'colsample_bylevel': hp.uniform('colsample_bylevel', 0.2, 1),\n",
    "    'colsample_bytree': hp.uniform('colsample_bytree', 0.2, 1),\n",
    "}"
   ]
  },
  {
   "cell_type": "code",
   "execution_count": 12,
   "metadata": {
    "collapsed": false,
    "scrolled": true
   },
   "outputs": [
    {
     "name": "stdout",
     "output_type": "stream",
     "text": [
      "obj -0.79375368297 arguments {'colsample_bytree': 0.767954185201517, 'colsample_bylevel': 0.930354896394116, 'learning_rate': 0.02789603819107345, 'n_estimators': 296, 'subsample': 0.8807481591535247, 'reg_lambda': 0.03114935405843873, 'max_depth': 9, 'gamma': 2.5561603759756042} \n",
      "\n",
      "obj -0.0989982321744 arguments {'colsample_bytree': 0.4537860199326206, 'colsample_bylevel': 0.24410877634464248, 'learning_rate': 0.04958852728552931, 'n_estimators': 169, 'subsample': 0.38269881752701906, 'reg_lambda': 7.9649080267403747, 'max_depth': 13, 'gamma': 7.9919787755197538} \n",
      "\n",
      "obj -0.556865055981 arguments {'colsample_bytree': 0.9617368721966661, 'colsample_bylevel': 0.9491109644705069, 'learning_rate': 0.18332030665705265, 'n_estimators': 71, 'subsample': 0.42657760293063957, 'reg_lambda': 0.63550126282659991, 'max_depth': 9, 'gamma': 8.4928896306139876} \n",
      "\n",
      "obj -0.853270477313 arguments {'colsample_bytree': 0.47466199805808956, 'colsample_bylevel': 0.297236129539653, 'learning_rate': 0.07483999318656319, 'n_estimators': 211, 'subsample': 0.6571943951313042, 'reg_lambda': 0.039166848041426935, 'max_depth': 20, 'gamma': 0.11104625980705801} \n",
      "\n",
      "obj -0.76664702416 arguments {'colsample_bytree': 0.5147848917915618, 'colsample_bylevel': 0.84076058416592, 'learning_rate': 0.07564928809887132, 'n_estimators': 112, 'subsample': 0.4593407940290026, 'reg_lambda': 0.037249413943430884, 'max_depth': 15, 'gamma': 4.6210148018301966} \n",
      "\n",
      "obj -0.850324101355 arguments {'colsample_bytree': 0.2635701877345808, 'colsample_bylevel': 0.9199375540738, 'learning_rate': 0.017086818152870546, 'n_estimators': 145, 'subsample': 0.8126032180665075, 'reg_lambda': 2.4818931760003906, 'max_depth': 4, 'gamma': 0.57437995422125654} \n",
      "\n",
      "obj -0.862109605186 arguments {'colsample_bytree': 0.463944476707143, 'colsample_bylevel': 0.257303663847359, 'learning_rate': 0.10458640267990633, 'n_estimators': 175, 'subsample': 0.7302026885582977, 'reg_lambda': 0.072836277242366035, 'max_depth': 2, 'gamma': 0.041007365864507192} \n",
      "\n",
      "obj -0.827931644078 arguments {'colsample_bytree': 0.7233591737409408, 'colsample_bylevel': 0.5558140456722801, 'learning_rate': 0.06646955045223413, 'n_estimators': 292, 'subsample': 0.43708801254277785, 'reg_lambda': 0.011312302060057835, 'max_depth': 4, 'gamma': 1.3881825540377524} \n",
      "\n",
      "obj -0.804360636417 arguments {'colsample_bytree': 0.2601739213626953, 'colsample_bylevel': 0.2592324886233279, 'learning_rate': 0.03358670820942152, 'n_estimators': 223, 'subsample': 0.2277778033732929, 'reg_lambda': 0.011747650847592573, 'max_depth': 18, 'gamma': 0.55347830753983573} \n",
      "\n",
      "obj -0.85975250442 arguments {'colsample_bytree': 0.5193567302631172, 'colsample_bylevel': 0.6367777607524936, 'learning_rate': 0.010498701078791379, 'n_estimators': 272, 'subsample': 0.8765924780219227, 'reg_lambda': 0.42917898280553179, 'max_depth': 5, 'gamma': 0.13977600951992206} \n",
      "\n",
      "obj -0.835592221567 arguments {'colsample_bytree': 0.7927323280107939, 'colsample_bylevel': 0.741625775007702, 'learning_rate': 0.03630524962402665, 'n_estimators': 234, 'subsample': 0.20115991273808717, 'reg_lambda': 0.013797545570373739, 'max_depth': 4, 'gamma': 0.44362525804979619} \n",
      "\n",
      "obj -0.841484973483 arguments {'colsample_bytree': 0.9917553923904714, 'colsample_bylevel': 0.9278062237301723, 'learning_rate': 0.06618538978229546, 'n_estimators': 202, 'subsample': 0.5546912862877083, 'reg_lambda': 0.70901425745778923, 'max_depth': 15, 'gamma': 0.039932679257625864} \n",
      "\n",
      "obj -0.862109605186 arguments {'colsample_bytree': 0.21816152383457554, 'colsample_bylevel': 0.7003599990243046, 'learning_rate': 0.0757726125951143, 'n_estimators': 172, 'subsample': 0.6801187754594007, 'reg_lambda': 1.1072858240542689, 'max_depth': 3, 'gamma': 0.066310736822179639} \n",
      "\n",
      "obj -0.840895698291 arguments {'colsample_bytree': 0.8640632698335513, 'colsample_bylevel': 0.8167370271538155, 'learning_rate': 0.11760084349038041, 'n_estimators': 153, 'subsample': 0.31189595002773807, 'reg_lambda': 0.30528697214312989, 'max_depth': 19, 'gamma': 0.10408466490516061} \n",
      "\n",
      "obj -0.82498526812 arguments {'colsample_bytree': 0.9346911388429178, 'colsample_bylevel': 0.987651304898191, 'learning_rate': 0.011205970072747323, 'n_estimators': 232, 'subsample': 0.46707458092485754, 'reg_lambda': 0.074835242218180803, 'max_depth': 4, 'gamma': 0.012890010611976444} \n",
      "\n",
      "obj -0.840895698291 arguments {'colsample_bytree': 0.606264970694987, 'colsample_bylevel': 0.8528209923109988, 'learning_rate': 0.03617563517944249, 'n_estimators': 244, 'subsample': 0.7941678215402495, 'reg_lambda': 1.7611592277348505, 'max_depth': 6, 'gamma': 0.61282652189695341} \n",
      "\n",
      "obj -0.837360047142 arguments {'colsample_bytree': 0.49673821261814644, 'colsample_bylevel': 0.38087208834950614, 'learning_rate': 0.01887073138338049, 'n_estimators': 296, 'subsample': 0.7136739692947092, 'reg_lambda': 2.8938258874764151, 'max_depth': 20, 'gamma': 1.2938568724934953} \n",
      "\n",
      "obj -0.853270477313 arguments {'colsample_bytree': 0.4625503905866702, 'colsample_bylevel': 0.768296973724081, 'learning_rate': 0.06056041575244749, 'n_estimators': 245, 'subsample': 0.4533287739605905, 'reg_lambda': 0.33815103826803355, 'max_depth': 10, 'gamma': 0.062787965019089217} \n",
      "\n",
      "obj -0.862109605186 arguments {'colsample_bytree': 0.32979874174791035, 'colsample_bylevel': 0.927379036534147, 'learning_rate': 0.031919766354652705, 'n_estimators': 137, 'subsample': 0.7872021533252676, 'reg_lambda': 0.020900979223584512, 'max_depth': 16, 'gamma': 0.26568599650179153} \n",
      "\n",
      "obj -0.830288744844 arguments {'colsample_bytree': 0.845027789473541, 'colsample_bylevel': 0.6948746218791199, 'learning_rate': 0.06654053303887211, 'n_estimators': 184, 'subsample': 0.2810663650681773, 'reg_lambda': 0.017619238116282455, 'max_depth': 8, 'gamma': 0.16489086833079147} \n",
      "\n"
     ]
    }
   ],
   "source": [
    "# algo = tpe.rand\n",
    "algo = tpe.suggest\n",
    "trials = Trials() # this object will keep info about runed experiments\n",
    "best = fmin(fn= obj_func,\n",
    "            space=space_hyperopt,\n",
    "            algo=tpe.suggest,\n",
    "            max_evals=nrep,\n",
    "            trials=trials)        "
   ]
  },
  {
   "cell_type": "code",
   "execution_count": 13,
   "metadata": {
    "collapsed": false
   },
   "outputs": [
    {
     "data": {
      "text/plain": [
       "{'book_time': datetime.datetime(2017, 4, 2, 21, 21, 58, 800000),\n",
       " 'exp_key': None,\n",
       " 'misc': {'cmd': ('domain_attachment', 'FMinIter_Domain'),\n",
       "  'idxs': {'colsample_bylevel': [0],\n",
       "   'colsample_bytree': [0],\n",
       "   'log_gamma': [0],\n",
       "   'log_reg_lambda': [0],\n",
       "   'lr_trees_ratio': [0],\n",
       "   'max_depth': [0],\n",
       "   'n_estimators': [0],\n",
       "   'subsample': [0]},\n",
       "  'tid': 0,\n",
       "  'vals': {'colsample_bylevel': [0.930354896394116],\n",
       "   'colsample_bytree': [0.767954185201517],\n",
       "   'log_gamma': [0.9385062794512926],\n",
       "   'log_reg_lambda': [-3.468961770450397],\n",
       "   'lr_trees_ratio': [8.257227304557741],\n",
       "   'max_depth': [9.0],\n",
       "   'n_estimators': [296.0],\n",
       "   'subsample': [0.8807481591535247]},\n",
       "  'workdir': None},\n",
       " 'owner': None,\n",
       " 'refresh_time': datetime.datetime(2017, 4, 2, 21, 21, 59, 502000),\n",
       " 'result': {'loss': -0.793753682969947, 'status': 'ok'},\n",
       " 'spec': None,\n",
       " 'state': 2,\n",
       " 'tid': 0,\n",
       " 'version': 0}"
      ]
     },
     "execution_count": 13,
     "metadata": {},
     "output_type": "execute_result"
    }
   ],
   "source": [
    "list(trials)[0]"
   ]
  },
  {
   "cell_type": "code",
   "execution_count": 14,
   "metadata": {
    "collapsed": false
   },
   "outputs": [
    {
     "data": {
      "text/plain": [
       "{'colsample_bylevel': 0.257303663847359,\n",
       " 'colsample_bytree': 0.463944476707143,\n",
       " 'log_gamma': -3.194003573182015,\n",
       " 'log_reg_lambda': -2.6195411341278074,\n",
       " 'lr_trees_ratio': 18.30262046898361,\n",
       " 'max_depth': 2.0,\n",
       " 'n_estimators': 175.0,\n",
       " 'subsample': 0.7302026885582977}"
      ]
     },
     "execution_count": 14,
     "metadata": {},
     "output_type": "execute_result"
    }
   ],
   "source": [
    "best"
   ]
  },
  {
   "cell_type": "code",
   "execution_count": 15,
   "metadata": {
    "collapsed": false
   },
   "outputs": [
    {
     "name": "stdout",
     "output_type": "stream",
     "text": [
      "obj -0.862109605186 arguments {'colsample_bytree': 0.463944476707143, 'colsample_bylevel': 0.257303663847359, 'learning_rate': 0.10458640267990633, 'max_depth': 2, 'n_estimators': 175, 'subsample': 0.7302026885582977, 'reg_lambda': 0.072836277242366035, 'gamma': 0.041007365864507192} \n",
      "\n"
     ]
    },
    {
     "data": {
      "text/plain": [
       "-0.86210960518562163"
      ]
     },
     "execution_count": 15,
     "metadata": {},
     "output_type": "execute_result"
    }
   ],
   "source": [
    "obj_func(best)"
   ]
  },
  {
   "cell_type": "code",
   "execution_count": null,
   "metadata": {
    "collapsed": true
   },
   "outputs": [],
   "source": []
  },
  {
   "cell_type": "markdown",
   "metadata": {},
   "source": [
    "# SPEARMINT (GP)"
   ]
  },
  {
   "cell_type": "code",
   "execution_count": 26,
   "metadata": {
    "collapsed": true
   },
   "outputs": [],
   "source": [
    "import spearmint"
   ]
  },
  {
   "cell_type": "code",
   "execution_count": null,
   "metadata": {
    "collapsed": true
   },
   "outputs": [],
   "source": [
    "import utils_xgb_main\n",
    "exp_name = 'test_xgb'\n",
    "\n",
    "JOB_DIR = '/home/kc/Konrad/python/hyperparams_opt/src/spearmint_data/xgb_spearmint/'\n",
    "CONFIG_BASE_DIR = os.path.join(JOB_DIR, 'config_base_xgb')\n",
    "CONFIG_DIR = os.path.join(JOB_DIR,'config.json')\n",
    "SPEARMINT_MAIN_DIR = '/home/kc/Konrad/python/hyperparams_opt/src/Spearmint/spearmint/main.py'\n",
    "\n",
    "def get_config_base():\n",
    "    return json.loads(open(CONFIG_BASE_DIR).read())\n",
    "\n",
    "def min_sample_required(train_data_shape):\n",
    "    eps = 1e-7\n",
    "    nrow, ncol = train_data_shape\n",
    "    inv_col = 1. / ncol\n",
    "    cs_min = inv_col ** 0.5 + eps\n",
    "    inv_row = 1. / nrow\n",
    "    ss_min = inv_row + eps\n",
    "    return cs_min, ss_min\n",
    "\n",
    "def prepare_data_dependent_fields(config):\n",
    "    train_data_shape = xtr.shape\n",
    "    cs_min, ss_min = min_sample_required(train_data_shape)\n",
    "    config['variables']['colsample_bylevel']['min'] = cs_min\n",
    "    config['variables']['colsample_bytree']['min'] = cs_min\n",
    "    config['variables']['subsample']['min'] = ss_min\n",
    "\n",
    "def prepare_config(exp_name, sample_based_on_data):\n",
    "    conf = get_config_base()\n",
    "    print 'config', conf\n",
    "    if sample_based_on_data:\n",
    "        prepare_data_dependent_fields(conf)\n",
    "    conf['experiment-name'] = exp_name\n",
    "    with open(CONFIG_DIR, 'w') as f:\n",
    "        json.dump(conf,f, sort_keys=True, indent=4, separators=(',', ' : '))\n",
    "\n",
    "def run_spearmint_job(name, sample_based_on_data): #, randomize=True):\n",
    "    prepare_config(name, sample_based_on_data)\n",
    "    cmd = 'python {main_dir} {job_dir}'.format(main_dir=SPEARMINT_MAIN_DIR, job_dir=JOB_DIR)\n",
    "    print 'executing shell command: {}'.format(cmd)\n",
    "    subprocess.call(cmd,shell=True)"
   ]
  },
  {
   "cell_type": "code",
   "execution_count": null,
   "metadata": {
    "collapsed": true
   },
   "outputs": [],
   "source": []
  },
  {
   "cell_type": "code",
   "execution_count": null,
   "metadata": {
    "collapsed": true
   },
   "outputs": [],
   "source": []
  },
  {
   "cell_type": "code",
   "execution_count": null,
   "metadata": {
    "collapsed": true
   },
   "outputs": [],
   "source": []
  },
  {
   "cell_type": "code",
   "execution_count": null,
   "metadata": {
    "collapsed": true
   },
   "outputs": [],
   "source": []
  },
  {
   "cell_type": "code",
   "execution_count": null,
   "metadata": {
    "collapsed": true
   },
   "outputs": [],
   "source": []
  },
  {
   "cell_type": "markdown",
   "metadata": {},
   "source": [
    "# DISCOPT "
   ]
  },
  {
   "cell_type": "code",
   "execution_count": 16,
   "metadata": {
    "collapsed": true
   },
   "outputs": [],
   "source": [
    "def scipy_uniform(min_val, max_val):\n",
    "    return scipy.stats.uniform(min_val, max_val - min_val)"
   ]
  },
  {
   "cell_type": "code",
   "execution_count": 19,
   "metadata": {
    "collapsed": false
   },
   "outputs": [],
   "source": [
    "space_scipy = {\n",
    "    'max_depth': stats.randint(1, 21),\n",
    "    'lr_trees_ratio': scipy_uniform(2,10),\n",
    "    'n_estimators': stats.randint(50, 301),\n",
    "    'log_gamma': scipy_uniform(np.log(0.01), np.log(10)),\n",
    "    'log_reg_lambda': scipy_uniform(np.log(0.01), np.log(10)),\n",
    "    'subsample': scipy_uniform(0.2, 1),\n",
    "    'colsample_bylevel': scipy_uniform(0.2, 1),\n",
    "    'colsample_bytree': scipy_uniform(0.2, 1),\n",
    "}"
   ]
  },
  {
   "cell_type": "code",
   "execution_count": 20,
   "metadata": {
    "collapsed": false,
    "scrolled": true
   },
   "outputs": [
    {
     "name": "stdout",
     "output_type": "stream",
     "text": [
      "obj -0.864466705952 arguments {'colsample_bytree': 0.38172527358010955, 'colsample_bylevel': 0.36400913083401787, 'learning_rate': 0.024422556641555116, 'n_estimators': 285, 'subsample': 0.99685701680814987, 'reg_lambda': 2.4342746716749226, 'max_depth': 6, 'gamma': 0.15222382181376989} \n",
      "\n",
      "obj -0.771950500884 arguments {'colsample_bytree': 0.41355664146756332, 'colsample_bylevel': 0.94947574931738554, 'learning_rate': 0.062213784571623743, 'n_estimators': 52, 'subsample': 0.28018674993929849, 'reg_lambda': 1.0777674618889217, 'max_depth': 12, 'gamma': 0.10347708256090966} \n",
      "\n",
      "obj -0.838538597525 arguments {'colsample_bytree': 0.91764598549793264, 'colsample_bylevel': 0.49848470718296212, 'learning_rate': 0.025705953476262259, 'n_estimators': 215, 'subsample': 0.89369163327493029, 'reg_lambda': 6.5101819005769173, 'max_depth': 20, 'gamma': 0.12573025846585489} \n",
      "\n",
      "obj -0.733647613435 arguments {'colsample_bytree': 0.65170176799403046, 'colsample_bylevel': 0.4803096135334306, 'learning_rate': 0.025781216044226399, 'n_estimators': 249, 'subsample': 0.43541293130375119, 'reg_lambda': 0.73016494098977403, 'max_depth': 11, 'gamma': 3.9753558344367788} \n",
      "\n",
      "obj -0.845609899823 arguments {'colsample_bytree': 0.30064892758721173, 'colsample_bylevel': 0.57599495840267112, 'learning_rate': 0.027904859195367348, 'n_estimators': 137, 'subsample': 0.54828277306012563, 'reg_lambda': 0.01965307377496954, 'max_depth': 11, 'gamma': 1.2139039231743645} \n",
      "\n",
      "best objective yet -0.864466705952\n",
      "obj -0.807307012375 arguments {'colsample_bytree': 0.71537854234385612, 'colsample_bylevel': 0.52381890316571833, 'learning_rate': 0.023499008896790692, 'n_estimators': 220, 'subsample': 0.22390491167283005, 'reg_lambda': 0.017668067110323468, 'max_depth': 4, 'gamma': 0.14099349583312912} \n",
      "\n",
      "best objective yet -0.864466705952\n",
      "obj -0.823806717737 arguments {'colsample_bytree': 0.23668028408182479, 'colsample_bylevel': 0.2579791393990849, 'learning_rate': 0.051753525482928532, 'n_estimators': 102, 'subsample': 0.84060840678890791, 'reg_lambda': 0.019516847012165887, 'max_depth': 11, 'gamma': 0.75206058996473391} \n",
      "\n",
      "best objective yet -0.864466705952\n",
      "obj -0.850324101355 arguments {'colsample_bytree': 0.22962421248401343, 'colsample_bylevel': 0.57718377337382398, 'learning_rate': 0.027692097547243066, 'n_estimators': 295, 'subsample': 0.49987242937082049, 'reg_lambda': 0.09289426331239628, 'max_depth': 15, 'gamma': 0.013103229097003451} \n",
      "\n",
      "best objective yet -0.864466705952\n",
      "obj -0.856806128462 arguments {'colsample_bytree': 0.52846296115293767, 'colsample_bylevel': 0.70602555790313248, 'learning_rate': 0.065790519250373089, 'n_estimators': 141, 'subsample': 0.98909406850814796, 'reg_lambda': 0.10869689406910893, 'max_depth': 17, 'gamma': 0.013652415027506092} \n",
      "\n",
      "best objective yet -0.864466705952\n",
      "obj -0.851502651738 arguments {'colsample_bytree': 0.2817657057209999, 'colsample_bylevel': 0.95869872278441814, 'learning_rate': 0.063658830502175093, 'n_estimators': 153, 'subsample': 0.59632591485353714, 'reg_lambda': 0.021293605721454015, 'max_depth': 18, 'gamma': 0.029878075323510309} \n",
      "\n",
      "best objective yet -0.864466705952\n",
      "obj -0.842074248674 arguments {'colsample_bytree': 0.57407921885978086, 'colsample_bylevel': 0.94694649592839819, 'learning_rate': 0.060413078510202826, 'n_estimators': 153, 'subsample': 0.83912367643081898, 'reg_lambda': 3.9689149568926454, 'max_depth': 17, 'gamma': 0.031259791997218178} \n",
      "\n",
      "best objective yet -0.864466705952\n",
      "obj -0.862698880377 arguments {'colsample_bytree': 0.30830078322956456, 'colsample_bylevel': 0.3809053434650439, 'learning_rate': 0.082388424006210922, 'n_estimators': 110, 'subsample': 0.78869640641442396, 'reg_lambda': 0.2166534946630245, 'max_depth': 20, 'gamma': 0.2681109522071613} \n",
      "\n",
      "best objective yet -0.864466705952\n",
      "obj -0.85209192693 arguments {'colsample_bytree': 0.51914777834097592, 'colsample_bylevel': 0.83582324139690556, 'learning_rate': 0.081644725672208124, 'n_estimators': 122, 'subsample': 0.42604108467117396, 'reg_lambda': 0.10773633832154142, 'max_depth': 15, 'gamma': 0.16939466612172382} \n",
      "\n",
      "best objective yet -0.864466705952\n",
      "obj -0.823806717737 arguments {'colsample_bytree': 0.60956483714600318, 'colsample_bylevel': 0.70560545028091792, 'learning_rate': 0.088136738795244862, 'n_estimators': 103, 'subsample': 0.97718098367779249, 'reg_lambda': 0.01809941559495357, 'max_depth': 16, 'gamma': 1.1921861268012155} \n",
      "\n",
      "best objective yet -0.864466705952\n",
      "obj -0.850324101355 arguments {'colsample_bytree': 0.20516020754522923, 'colsample_bylevel': 0.25786218547866957, 'learning_rate': 0.038931415316825743, 'n_estimators': 244, 'subsample': 0.55747870530767774, 'reg_lambda': 0.34026667533509197, 'max_depth': 3, 'gamma': 0.15229194492579254} \n",
      "\n",
      "best objective yet -0.864466705952\n",
      "obj -0.860341779611 arguments {'colsample_bytree': 0.3177884268337603, 'colsample_bylevel': 0.98569147933626522, 'learning_rate': 0.16274421861371316, 'n_estimators': 56, 'subsample': 0.83115204642174989, 'reg_lambda': 0.13616651418086229, 'max_depth': 19, 'gamma': 0.030442722282037957} \n",
      "\n",
      "best objective yet -0.864466705952\n",
      "obj -0.860931054803 arguments {'colsample_bytree': 0.53724031021878504, 'colsample_bylevel': 0.34029890946090691, 'learning_rate': 0.06297128236266876, 'n_estimators': 133, 'subsample': 0.96451906977357571, 'reg_lambda': 0.56115553398100526, 'max_depth': 9, 'gamma': 0.030911715741517781} \n",
      "\n",
      "best objective yet -0.864466705952\n",
      "obj -0.838538597525 arguments {'colsample_bytree': 0.75236658450353944, 'colsample_bylevel': 0.76321395245183199, 'learning_rate': 0.066355537033262871, 'n_estimators': 148, 'subsample': 0.97389911681418329, 'reg_lambda': 0.18142511715076762, 'max_depth': 11, 'gamma': 0.12921144642428961} \n",
      "\n",
      "best objective yet -0.864466705952\n",
      "obj -0.852681202121 arguments {'colsample_bytree': 0.50582531344137416, 'colsample_bylevel': 0.65998016984445784, 'learning_rate': 0.068810289677942921, 'n_estimators': 141, 'subsample': 0.83941809666439737, 'reg_lambda': 0.042127535098408712, 'max_depth': 19, 'gamma': 0.12538724373891824} \n",
      "\n",
      "best objective yet -0.864466705952\n",
      "obj -0.845609899823 arguments {'colsample_bytree': 0.36180616859617748, 'colsample_bylevel': 0.94759118495264327, 'learning_rate': 0.031110521631822617, 'n_estimators': 295, 'subsample': 0.92857804248125131, 'reg_lambda': 0.091130340619964875, 'max_depth': 19, 'gamma': 0.52541452950791789} \n",
      "\n",
      "best objective yet -0.864466705952\n",
      "obj -0.867413081909 arguments {'colsample_bytree': 0.51376938370198988, 'colsample_bylevel': 0.38250699228296753, 'learning_rate': 0.029453657172211746, 'n_estimators': 195, 'subsample': 0.91416703393085896, 'reg_lambda': 0.028872408848012319, 'max_depth': 7, 'gamma': 0.02968649526946875} \n",
      "\n",
      "best objective yet -0.867413081909\n",
      "obj -0.861520329994 arguments {'colsample_bytree': 0.50822905322665601, 'colsample_bylevel': 0.23691743113615171, 'learning_rate': 0.037728842467042327, 'n_estimators': 168, 'subsample': 0.67221009175146307, 'reg_lambda': 0.35793032219637133, 'max_depth': 10, 'gamma': 0.024341603529845185} \n",
      "\n",
      "best objective yet -0.867413081909\n",
      "obj -0.834413671184 arguments {'colsample_bytree': 0.57425404221059395, 'colsample_bylevel': 0.25865674588900922, 'learning_rate': 0.029641883467774219, 'n_estimators': 156, 'subsample': 0.74861820712843374, 'reg_lambda': 4.3488664702578559, 'max_depth': 2, 'gamma': 0.035070188980416972} \n",
      "\n",
      "best objective yet -0.867413081909\n",
      "obj -0.85621685327 arguments {'colsample_bytree': 0.2425898919460262, 'colsample_bylevel': 0.39074970147272953, 'learning_rate': 0.1313909531958706, 'n_estimators': 75, 'subsample': 0.79843117489906335, 'reg_lambda': 0.34997992510312104, 'max_depth': 14, 'gamma': 0.14822194911579317} \n",
      "\n",
      "best objective yet -0.867413081909\n",
      "obj -0.857984678845 arguments {'colsample_bytree': 0.65335860918288913, 'colsample_bylevel': 0.43006661524624645, 'learning_rate': 0.049788241809645813, 'n_estimators': 143, 'subsample': 0.81878852388111545, 'reg_lambda': 0.13437003861125318, 'max_depth': 8, 'gamma': 0.32728905893383947} \n",
      "\n"
     ]
    }
   ],
   "source": [
    "scores = discopt.search_min(obj_func, space=space_scipy, nrep=nrep)\n"
   ]
  },
  {
   "cell_type": "code",
   "execution_count": 21,
   "metadata": {
    "collapsed": false,
    "scrolled": true
   },
   "outputs": [
    {
     "data": {
      "text/html": [
       "<div>\n",
       "<table border=\"1\" class=\"dataframe\">\n",
       "  <thead>\n",
       "    <tr style=\"text-align: right;\">\n",
       "      <th></th>\n",
       "      <th>lr_trees_ratio</th>\n",
       "      <th>colsample_bytree</th>\n",
       "      <th>colsample_bylevel</th>\n",
       "      <th>log_gamma</th>\n",
       "      <th>n_estimators</th>\n",
       "      <th>subsample</th>\n",
       "      <th>log_reg_lambda</th>\n",
       "      <th>max_depth</th>\n",
       "      <th>obj</th>\n",
       "    </tr>\n",
       "  </thead>\n",
       "  <tbody>\n",
       "    <tr>\n",
       "      <th>0</th>\n",
       "      <td>6.960429</td>\n",
       "      <td>0.381725</td>\n",
       "      <td>0.364009</td>\n",
       "      <td>-1.882403</td>\n",
       "      <td>285.0</td>\n",
       "      <td>0.996857</td>\n",
       "      <td>0.889649</td>\n",
       "      <td>6.0</td>\n",
       "      <td>-0.864467</td>\n",
       "    </tr>\n",
       "    <tr>\n",
       "      <th>1</th>\n",
       "      <td>3.235117</td>\n",
       "      <td>0.413557</td>\n",
       "      <td>0.949476</td>\n",
       "      <td>-2.268405</td>\n",
       "      <td>52.0</td>\n",
       "      <td>0.280187</td>\n",
       "      <td>0.074892</td>\n",
       "      <td>12.0</td>\n",
       "      <td>-0.771951</td>\n",
       "    </tr>\n",
       "    <tr>\n",
       "      <th>2</th>\n",
       "      <td>5.526780</td>\n",
       "      <td>0.917646</td>\n",
       "      <td>0.498485</td>\n",
       "      <td>-2.073616</td>\n",
       "      <td>215.0</td>\n",
       "      <td>0.893692</td>\n",
       "      <td>1.873367</td>\n",
       "      <td>20.0</td>\n",
       "      <td>-0.838539</td>\n",
       "    </tr>\n",
       "    <tr>\n",
       "      <th>3</th>\n",
       "      <td>6.419523</td>\n",
       "      <td>0.651702</td>\n",
       "      <td>0.480310</td>\n",
       "      <td>1.380114</td>\n",
       "      <td>249.0</td>\n",
       "      <td>0.435413</td>\n",
       "      <td>-0.314485</td>\n",
       "      <td>11.0</td>\n",
       "      <td>-0.733648</td>\n",
       "    </tr>\n",
       "    <tr>\n",
       "      <th>4</th>\n",
       "      <td>3.822966</td>\n",
       "      <td>0.300649</td>\n",
       "      <td>0.575995</td>\n",
       "      <td>0.193842</td>\n",
       "      <td>137.0</td>\n",
       "      <td>0.548283</td>\n",
       "      <td>-3.929522</td>\n",
       "      <td>11.0</td>\n",
       "      <td>-0.845610</td>\n",
       "    </tr>\n",
       "    <tr>\n",
       "      <th>5</th>\n",
       "      <td>5.169782</td>\n",
       "      <td>0.715379</td>\n",
       "      <td>0.523819</td>\n",
       "      <td>-1.959042</td>\n",
       "      <td>220.0</td>\n",
       "      <td>0.223905</td>\n",
       "      <td>-4.035996</td>\n",
       "      <td>4.0</td>\n",
       "      <td>-0.807307</td>\n",
       "    </tr>\n",
       "    <tr>\n",
       "      <th>6</th>\n",
       "      <td>5.278860</td>\n",
       "      <td>0.236680</td>\n",
       "      <td>0.257979</td>\n",
       "      <td>-0.284938</td>\n",
       "      <td>102.0</td>\n",
       "      <td>0.840608</td>\n",
       "      <td>-3.936477</td>\n",
       "      <td>11.0</td>\n",
       "      <td>-0.823807</td>\n",
       "    </tr>\n",
       "    <tr>\n",
       "      <th>7</th>\n",
       "      <td>8.169169</td>\n",
       "      <td>0.229624</td>\n",
       "      <td>0.577184</td>\n",
       "      <td>-4.334897</td>\n",
       "      <td>295.0</td>\n",
       "      <td>0.499872</td>\n",
       "      <td>-2.376293</td>\n",
       "      <td>15.0</td>\n",
       "      <td>-0.850324</td>\n",
       "    </tr>\n",
       "    <tr>\n",
       "      <th>8</th>\n",
       "      <td>9.276463</td>\n",
       "      <td>0.528463</td>\n",
       "      <td>0.706026</td>\n",
       "      <td>-4.293839</td>\n",
       "      <td>141.0</td>\n",
       "      <td>0.989094</td>\n",
       "      <td>-2.219192</td>\n",
       "      <td>17.0</td>\n",
       "      <td>-0.856806</td>\n",
       "    </tr>\n",
       "    <tr>\n",
       "      <th>9</th>\n",
       "      <td>9.739801</td>\n",
       "      <td>0.281766</td>\n",
       "      <td>0.958699</td>\n",
       "      <td>-3.510630</td>\n",
       "      <td>153.0</td>\n",
       "      <td>0.596326</td>\n",
       "      <td>-3.849348</td>\n",
       "      <td>18.0</td>\n",
       "      <td>-0.851503</td>\n",
       "    </tr>\n",
       "    <tr>\n",
       "      <th>10</th>\n",
       "      <td>9.243201</td>\n",
       "      <td>0.574079</td>\n",
       "      <td>0.946946</td>\n",
       "      <td>-3.465423</td>\n",
       "      <td>153.0</td>\n",
       "      <td>0.839124</td>\n",
       "      <td>1.378493</td>\n",
       "      <td>17.0</td>\n",
       "      <td>-0.842074</td>\n",
       "    </tr>\n",
       "    <tr>\n",
       "      <th>11</th>\n",
       "      <td>9.062727</td>\n",
       "      <td>0.308301</td>\n",
       "      <td>0.380905</td>\n",
       "      <td>-1.316354</td>\n",
       "      <td>110.0</td>\n",
       "      <td>0.788696</td>\n",
       "      <td>-1.529456</td>\n",
       "      <td>20.0</td>\n",
       "      <td>-0.862699</td>\n",
       "    </tr>\n",
       "    <tr>\n",
       "      <th>12</th>\n",
       "      <td>9.960657</td>\n",
       "      <td>0.519148</td>\n",
       "      <td>0.835823</td>\n",
       "      <td>-1.775524</td>\n",
       "      <td>122.0</td>\n",
       "      <td>0.426041</td>\n",
       "      <td>-2.228068</td>\n",
       "      <td>15.0</td>\n",
       "      <td>-0.852092</td>\n",
       "    </tr>\n",
       "    <tr>\n",
       "      <th>13</th>\n",
       "      <td>9.078084</td>\n",
       "      <td>0.609565</td>\n",
       "      <td>0.705605</td>\n",
       "      <td>0.175789</td>\n",
       "      <td>103.0</td>\n",
       "      <td>0.977181</td>\n",
       "      <td>-4.011876</td>\n",
       "      <td>16.0</td>\n",
       "      <td>-0.823807</td>\n",
       "    </tr>\n",
       "    <tr>\n",
       "      <th>14</th>\n",
       "      <td>9.499265</td>\n",
       "      <td>0.205160</td>\n",
       "      <td>0.257862</td>\n",
       "      <td>-1.881956</td>\n",
       "      <td>244.0</td>\n",
       "      <td>0.557479</td>\n",
       "      <td>-1.078026</td>\n",
       "      <td>3.0</td>\n",
       "      <td>-0.850324</td>\n",
       "    </tr>\n",
       "    <tr>\n",
       "      <th>15</th>\n",
       "      <td>9.113676</td>\n",
       "      <td>0.317788</td>\n",
       "      <td>0.985691</td>\n",
       "      <td>-3.491908</td>\n",
       "      <td>56.0</td>\n",
       "      <td>0.831152</td>\n",
       "      <td>-1.993877</td>\n",
       "      <td>19.0</td>\n",
       "      <td>-0.860342</td>\n",
       "    </tr>\n",
       "    <tr>\n",
       "      <th>16</th>\n",
       "      <td>8.375181</td>\n",
       "      <td>0.537240</td>\n",
       "      <td>0.340299</td>\n",
       "      <td>-3.476620</td>\n",
       "      <td>133.0</td>\n",
       "      <td>0.964519</td>\n",
       "      <td>-0.577757</td>\n",
       "      <td>9.0</td>\n",
       "      <td>-0.860931</td>\n",
       "    </tr>\n",
       "    <tr>\n",
       "      <th>17</th>\n",
       "      <td>9.820619</td>\n",
       "      <td>0.752367</td>\n",
       "      <td>0.763214</td>\n",
       "      <td>-2.046305</td>\n",
       "      <td>148.0</td>\n",
       "      <td>0.973899</td>\n",
       "      <td>-1.706912</td>\n",
       "      <td>11.0</td>\n",
       "      <td>-0.838539</td>\n",
       "    </tr>\n",
       "    <tr>\n",
       "      <th>18</th>\n",
       "      <td>9.702251</td>\n",
       "      <td>0.505825</td>\n",
       "      <td>0.659980</td>\n",
       "      <td>-2.076348</td>\n",
       "      <td>141.0</td>\n",
       "      <td>0.839418</td>\n",
       "      <td>-3.167054</td>\n",
       "      <td>19.0</td>\n",
       "      <td>-0.852681</td>\n",
       "    </tr>\n",
       "    <tr>\n",
       "      <th>19</th>\n",
       "      <td>9.177604</td>\n",
       "      <td>0.361806</td>\n",
       "      <td>0.947591</td>\n",
       "      <td>-0.643568</td>\n",
       "      <td>295.0</td>\n",
       "      <td>0.928578</td>\n",
       "      <td>-2.395464</td>\n",
       "      <td>19.0</td>\n",
       "      <td>-0.845610</td>\n",
       "    </tr>\n",
       "    <tr>\n",
       "      <th>20</th>\n",
       "      <td>5.743463</td>\n",
       "      <td>0.513769</td>\n",
       "      <td>0.382507</td>\n",
       "      <td>-3.517063</td>\n",
       "      <td>195.0</td>\n",
       "      <td>0.914167</td>\n",
       "      <td>-3.544869</td>\n",
       "      <td>7.0</td>\n",
       "      <td>-0.867413</td>\n",
       "    </tr>\n",
       "    <tr>\n",
       "      <th>21</th>\n",
       "      <td>6.338446</td>\n",
       "      <td>0.508229</td>\n",
       "      <td>0.236917</td>\n",
       "      <td>-3.715568</td>\n",
       "      <td>168.0</td>\n",
       "      <td>0.672210</td>\n",
       "      <td>-1.027417</td>\n",
       "      <td>10.0</td>\n",
       "      <td>-0.861520</td>\n",
       "    </tr>\n",
       "    <tr>\n",
       "      <th>22</th>\n",
       "      <td>4.624134</td>\n",
       "      <td>0.574254</td>\n",
       "      <td>0.258657</td>\n",
       "      <td>-3.350404</td>\n",
       "      <td>156.0</td>\n",
       "      <td>0.748618</td>\n",
       "      <td>1.469915</td>\n",
       "      <td>2.0</td>\n",
       "      <td>-0.834414</td>\n",
       "    </tr>\n",
       "    <tr>\n",
       "      <th>23</th>\n",
       "      <td>9.854321</td>\n",
       "      <td>0.242590</td>\n",
       "      <td>0.390750</td>\n",
       "      <td>-1.909044</td>\n",
       "      <td>75.0</td>\n",
       "      <td>0.798431</td>\n",
       "      <td>-1.049879</td>\n",
       "      <td>14.0</td>\n",
       "      <td>-0.856217</td>\n",
       "    </tr>\n",
       "    <tr>\n",
       "      <th>24</th>\n",
       "      <td>7.119719</td>\n",
       "      <td>0.653359</td>\n",
       "      <td>0.430067</td>\n",
       "      <td>-1.116912</td>\n",
       "      <td>143.0</td>\n",
       "      <td>0.818789</td>\n",
       "      <td>-2.007158</td>\n",
       "      <td>8.0</td>\n",
       "      <td>-0.857985</td>\n",
       "    </tr>\n",
       "  </tbody>\n",
       "</table>\n",
       "</div>"
      ],
      "text/plain": [
       "    lr_trees_ratio  colsample_bytree  colsample_bylevel  log_gamma  \\\n",
       "0         6.960429          0.381725           0.364009  -1.882403   \n",
       "1         3.235117          0.413557           0.949476  -2.268405   \n",
       "2         5.526780          0.917646           0.498485  -2.073616   \n",
       "3         6.419523          0.651702           0.480310   1.380114   \n",
       "4         3.822966          0.300649           0.575995   0.193842   \n",
       "5         5.169782          0.715379           0.523819  -1.959042   \n",
       "6         5.278860          0.236680           0.257979  -0.284938   \n",
       "7         8.169169          0.229624           0.577184  -4.334897   \n",
       "8         9.276463          0.528463           0.706026  -4.293839   \n",
       "9         9.739801          0.281766           0.958699  -3.510630   \n",
       "10        9.243201          0.574079           0.946946  -3.465423   \n",
       "11        9.062727          0.308301           0.380905  -1.316354   \n",
       "12        9.960657          0.519148           0.835823  -1.775524   \n",
       "13        9.078084          0.609565           0.705605   0.175789   \n",
       "14        9.499265          0.205160           0.257862  -1.881956   \n",
       "15        9.113676          0.317788           0.985691  -3.491908   \n",
       "16        8.375181          0.537240           0.340299  -3.476620   \n",
       "17        9.820619          0.752367           0.763214  -2.046305   \n",
       "18        9.702251          0.505825           0.659980  -2.076348   \n",
       "19        9.177604          0.361806           0.947591  -0.643568   \n",
       "20        5.743463          0.513769           0.382507  -3.517063   \n",
       "21        6.338446          0.508229           0.236917  -3.715568   \n",
       "22        4.624134          0.574254           0.258657  -3.350404   \n",
       "23        9.854321          0.242590           0.390750  -1.909044   \n",
       "24        7.119719          0.653359           0.430067  -1.116912   \n",
       "\n",
       "    n_estimators  subsample  log_reg_lambda  max_depth       obj  \n",
       "0          285.0   0.996857        0.889649        6.0 -0.864467  \n",
       "1           52.0   0.280187        0.074892       12.0 -0.771951  \n",
       "2          215.0   0.893692        1.873367       20.0 -0.838539  \n",
       "3          249.0   0.435413       -0.314485       11.0 -0.733648  \n",
       "4          137.0   0.548283       -3.929522       11.0 -0.845610  \n",
       "5          220.0   0.223905       -4.035996        4.0 -0.807307  \n",
       "6          102.0   0.840608       -3.936477       11.0 -0.823807  \n",
       "7          295.0   0.499872       -2.376293       15.0 -0.850324  \n",
       "8          141.0   0.989094       -2.219192       17.0 -0.856806  \n",
       "9          153.0   0.596326       -3.849348       18.0 -0.851503  \n",
       "10         153.0   0.839124        1.378493       17.0 -0.842074  \n",
       "11         110.0   0.788696       -1.529456       20.0 -0.862699  \n",
       "12         122.0   0.426041       -2.228068       15.0 -0.852092  \n",
       "13         103.0   0.977181       -4.011876       16.0 -0.823807  \n",
       "14         244.0   0.557479       -1.078026        3.0 -0.850324  \n",
       "15          56.0   0.831152       -1.993877       19.0 -0.860342  \n",
       "16         133.0   0.964519       -0.577757        9.0 -0.860931  \n",
       "17         148.0   0.973899       -1.706912       11.0 -0.838539  \n",
       "18         141.0   0.839418       -3.167054       19.0 -0.852681  \n",
       "19         295.0   0.928578       -2.395464       19.0 -0.845610  \n",
       "20         195.0   0.914167       -3.544869        7.0 -0.867413  \n",
       "21         168.0   0.672210       -1.027417       10.0 -0.861520  \n",
       "22         156.0   0.748618        1.469915        2.0 -0.834414  \n",
       "23          75.0   0.798431       -1.049879       14.0 -0.856217  \n",
       "24         143.0   0.818789       -2.007158        8.0 -0.857985  "
      ]
     },
     "execution_count": 21,
     "metadata": {},
     "output_type": "execute_result"
    }
   ],
   "source": [
    "scores"
   ]
  },
  {
   "cell_type": "code",
   "execution_count": null,
   "metadata": {
    "collapsed": true
   },
   "outputs": [],
   "source": []
  },
  {
   "cell_type": "code",
   "execution_count": null,
   "metadata": {
    "collapsed": true
   },
   "outputs": [],
   "source": []
  },
  {
   "cell_type": "markdown",
   "metadata": {},
   "source": [
    "# DISCOPT SHORTCUT FOR XGB "
   ]
  },
  {
   "cell_type": "code",
   "execution_count": 22,
   "metadata": {
    "collapsed": true
   },
   "outputs": [],
   "source": [
    "def train_and_valid(clf):\n",
    "    # put here trainig and validation, return objective\n",
    "    # that this would be minimalized so use negative accuracy/AUC/F1...\n",
    "    # validation method is up to you\n",
    "    # clf is xgboost.sklearn.XGBoostClassifier instance\n",
    "    clf.fit(xtr, ytr)\n",
    "    pred = clf.predict(xval)\n",
    "    obj = -(pred == yval).mean() # accuracy\n",
    "    return obj"
   ]
  },
  {
   "cell_type": "code",
   "execution_count": 23,
   "metadata": {
    "collapsed": false,
    "scrolled": true
   },
   "outputs": [
    {
     "name": "stdout",
     "output_type": "stream",
     "text": [
      "best objective yet -0.842663523866\n",
      "best objective yet -0.842663523866\n",
      "best objective yet -0.868591632292\n",
      "best objective yet -0.868591632292\n",
      "best objective yet -0.868591632292\n",
      "best objective yet -0.868591632292\n",
      "best objective yet -0.868591632292\n",
      "best objective yet -0.868591632292\n",
      "best objective yet -0.868591632292\n",
      "best objective yet -0.868591632292\n",
      "best objective yet -0.868591632292\n",
      "best objective yet -0.868591632292\n",
      "best objective yet -0.868591632292\n",
      "best objective yet -0.868591632292\n",
      "best objective yet -0.868591632292\n",
      "best objective yet -0.868591632292\n",
      "best objective yet -0.868591632292\n",
      "best objective yet -0.868591632292\n",
      "best objective yet -0.868591632292\n",
      "best objective yet -0.868591632292\n"
     ]
    }
   ],
   "source": [
    "best_params, scores = discopt.search_params_for_xgb(train_valid_func=train_and_valid, train_data_shape=xtr.shape, ntrials=nrep)"
   ]
  },
  {
   "cell_type": "code",
   "execution_count": 24,
   "metadata": {
    "collapsed": false
   },
   "outputs": [
    {
     "data": {
      "text/plain": [
       "{'colsample_bylevel': 0.81110456790293606,\n",
       " 'colsample_bytree': 0.36200464550488803,\n",
       " 'gamma': 2.758957718883623,\n",
       " 'learning_rate': 0.034653970569318703,\n",
       " 'max_depth': 18,\n",
       " 'n_estimators': 104,\n",
       " 'reg_lambda': 6.5650051277478179,\n",
       " 'subsample': 0.12992248318790817}"
      ]
     },
     "execution_count": 24,
     "metadata": {},
     "output_type": "execute_result"
    }
   ],
   "source": [
    "best_params"
   ]
  },
  {
   "cell_type": "code",
   "execution_count": null,
   "metadata": {
    "collapsed": true
   },
   "outputs": [],
   "source": []
  }
 ],
 "metadata": {
  "kernelspec": {
   "display_name": "Python 2",
   "language": "python",
   "name": "python2"
  },
  "language_info": {
   "codemirror_mode": {
    "name": "ipython",
    "version": 2
   },
   "file_extension": ".py",
   "mimetype": "text/x-python",
   "name": "python",
   "nbconvert_exporter": "python",
   "pygments_lexer": "ipython2",
   "version": "2.7.6"
  }
 },
 "nbformat": 4,
 "nbformat_minor": 0
}
